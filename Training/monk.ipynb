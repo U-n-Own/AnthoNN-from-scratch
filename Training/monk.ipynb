{
 "cells": [
  {
   "cell_type": "code",
   "execution_count": 1,
   "metadata": {
    "collapsed": true,
    "ExecuteTime": {
     "end_time": "2023-05-06T14:32:49.345214300Z",
     "start_time": "2023-05-06T14:32:47.908148500Z"
    }
   },
   "outputs": [],
   "source": [
    "import sys\n",
    "\n",
    "sys.path.append('../../') #server per fare l'import di file in un'altra directory sullo stesso \"livello\"\n",
    "from src.neuralNetwork.function import SigmoidFunction\n",
    "from src.neuralNetwork.NeuralNetwork import NeuralNetwork, Layer\n",
    "from matplotlib import pyplot as plt\n",
    "from src.load_ds import load_monks\n",
    "from src.neuralNetwork.error import MeanSquaredError\n",
    "import numpy as np"
   ]
  },
  {
   "cell_type": "markdown",
   "source": [
    "# Monk 1\n",
    "(100% accuracy sul test set)"
   ],
   "metadata": {
    "collapsed": false
   }
  },
  {
   "cell_type": "code",
   "execution_count": 2,
   "outputs": [],
   "source": [
    "layer1 = Layer(num_neurons = 4, num_inputs = 17, activation_function = SigmoidFunction())\n",
    "layer2 = Layer(num_neurons = 1, num_inputs = 4, activation_function = SigmoidFunction())\n",
    "neuralNetwork_Monk1 = NeuralNetwork([layer1, layer2])\n",
    "\n",
    "learning_rate_Monk1 = 0.075\n",
    "regularization_term_Monk1 = 0\n",
    "momentum_term_Monk1 = 0.5\n",
    "epochs_Monk1 = 800\n",
    "\n",
    "target_inputs_train_Monk1, target_outputs_train_Monk1 = load_monks('../datasets/monk/monks-1.train', shuffle=False)\n",
    "target_inputs_test_Monk1, target_outputs_test_Monk1 = load_monks('../datasets/monk/monks-1.test', shuffle=False)"
   ],
   "metadata": {
    "collapsed": false,
    "ExecuteTime": {
     "end_time": "2023-05-06T14:32:49.345214300Z",
     "start_time": "2023-05-06T14:32:49.324499100Z"
    }
   }
  },
  {
   "cell_type": "markdown",
   "source": [
    "# Monk 2\n",
    "(100% accuracy sul test set)"
   ],
   "metadata": {
    "collapsed": false
   }
  },
  {
   "cell_type": "code",
   "execution_count": 3,
   "outputs": [],
   "source": [
    "layer1 = Layer(num_neurons = 2, num_inputs = 17, activation_function = SigmoidFunction())\n",
    "layer2 = Layer(num_neurons = 1, num_inputs = 2, activation_function = SigmoidFunction())\n",
    "neuralNetwork_Monk2 = NeuralNetwork([layer1, layer2])\n",
    "\n",
    "learning_rate_Monk2 = 0.1\n",
    "regularization_term_Monk2 = 0\n",
    "momentum_term_Monk2 = 0.9\n",
    "epochs_Monk2=200\n",
    "\n",
    "target_inputs_train_Monk2, target_outputs_train_Monk2 = load_monks('../datasets/monk/monks-2.train', shuffle=False)\n",
    "target_inputs_test_Monk2, target_outputs_test_Monk2 = load_monks('../datasets/monk/monks-2.test', shuffle=False)"
   ],
   "metadata": {
    "collapsed": false,
    "ExecuteTime": {
     "end_time": "2023-05-06T14:32:49.376488900Z",
     "start_time": "2023-05-06T14:32:49.345214300Z"
    }
   }
  },
  {
   "cell_type": "markdown",
   "source": [
    "# Monk 3\n",
    "(97.3% accuracy sul test set)"
   ],
   "metadata": {
    "collapsed": false
   }
  },
  {
   "cell_type": "code",
   "execution_count": 4,
   "outputs": [],
   "source": [
    "layer1 = Layer(num_neurons = 2, num_inputs = 17, activation_function = SigmoidFunction())\n",
    "layer2 = Layer(num_neurons = 1, num_inputs = 2, activation_function = SigmoidFunction())\n",
    "neuralNetwork_Monk3 = NeuralNetwork([layer1, layer2])\n",
    "\n",
    "learning_rate_Monk3 = 0.1\n",
    "regularization_term_Monk3 = 0.01\n",
    "momentum_term_Monk3 = 0.9\n",
    "epochs_Monk3=500\n",
    "\n",
    "\n",
    "target_inputs_train_Monk3, target_outputs_train_Monk3 = load_monks('../datasets/monk/monks-3.train', shuffle=False)\n",
    "target_inputs_test_Monk3, target_outputs_test_Monk3 = load_monks('../datasets/monk/monks-3.test', shuffle=False)"
   ],
   "metadata": {
    "collapsed": false,
    "ExecuteTime": {
     "end_time": "2023-05-06T14:32:49.416824700Z",
     "start_time": "2023-05-06T14:32:49.376488900Z"
    }
   }
  },
  {
   "cell_type": "markdown",
   "source": [
    "# Training"
   ],
   "metadata": {
    "collapsed": false
   }
  },
  {
   "cell_type": "code",
   "execution_count": 5,
   "outputs": [],
   "source": [
    "# Scelta modello\n",
    "neuralNetwork = neuralNetwork_Monk2\n",
    "learning_rate = learning_rate_Monk2\n",
    "regularization_term = regularization_term_Monk2\n",
    "momentum_term = momentum_term_Monk2\n",
    "epochs = epochs_Monk2\n",
    "target_inputs_train, target_outputs_train = target_inputs_train_Monk2, target_outputs_train_Monk2\n",
    "target_inputs_test, target_outputs_test = target_inputs_test_Monk2, target_outputs_test_Monk2"
   ],
   "metadata": {
    "collapsed": false,
    "ExecuteTime": {
     "end_time": "2023-05-06T14:32:49.428834800Z",
     "start_time": "2023-05-06T14:32:49.416824700Z"
    }
   }
  },
  {
   "cell_type": "code",
   "execution_count": 6,
   "outputs": [],
   "source": [
    "def get_accuracy(neuralNetwork, target_inputs, target_outputs):\n",
    "    output_nn = neuralNetwork.predict(target_inputs)\n",
    "\n",
    "    output_nn = np.matrix(np.where(output_nn >= 0.5, 1, output_nn))\n",
    "    output_nn = np.matrix(np.where(output_nn < 0.5, 0, output_nn))\n",
    "    incorrect_prediction = np.sum(np.abs(target_outputs - output_nn))\n",
    "\n",
    "    accuracy = (1- incorrect_prediction / target_outputs.shape[0])*100\n",
    "    return accuracy"
   ],
   "metadata": {
    "collapsed": false,
    "ExecuteTime": {
     "end_time": "2023-05-06T14:32:49.453814100Z",
     "start_time": "2023-05-06T14:32:49.430821100Z"
    }
   }
  },
  {
   "cell_type": "code",
   "execution_count": 7,
   "outputs": [
    {
     "name": "stdout",
     "output_type": "stream",
     "text": [
      "Epoch 0/1: Training error: 0.24940444649731142\n",
      "Epoch 0/1: Training error: 0.2397991239374768\n",
      "Epoch 0/1: Training error: 0.2452617274736507\n",
      "Epoch 0/1: Training error: 0.2361804282543614\n",
      "Epoch 0/1: Training error: 0.23686102366781353\n",
      "Epoch 0/1: Training error: 0.23633331365160598\n",
      "Epoch 0/1: Training error: 0.23483919002743803\n",
      "Epoch 0/1: Training error: 0.23508338173962345\n",
      "Epoch 0/1: Training error: 0.23456536017524737\n",
      "Epoch 0/1: Training error: 0.234388826731933\n",
      "Epoch 0/1: Training error: 0.2342277155925654\n",
      "Epoch 0/1: Training error: 0.23389609164851777\n",
      "Epoch 0/1: Training error: 0.23369929138760132\n",
      "Epoch 0/1: Training error: 0.23342096493704204\n",
      "Epoch 0/1: Training error: 0.23306669642529934\n",
      "Epoch 0/1: Training error: 0.23272470456584254\n",
      "Epoch 0/1: Training error: 0.23233368395525567\n",
      "Epoch 0/1: Training error: 0.2318766208356931\n",
      "Epoch 0/1: Training error: 0.2313922432056241\n",
      "Epoch 0/1: Training error: 0.23087327036711225\n",
      "Epoch 0/1: Training error: 0.23030581008601553\n",
      "Epoch 0/1: Training error: 0.2297110756219247\n",
      "Epoch 0/1: Training error: 0.2290983919702374\n",
      "Epoch 0/1: Training error: 0.22846561257395753\n",
      "Epoch 0/1: Training error: 0.22782515836034153\n",
      "Epoch 0/1: Training error: 0.227186824404884\n",
      "Epoch 0/1: Training error: 0.22655164764948477\n",
      "Epoch 0/1: Training error: 0.22592311546169794\n",
      "Epoch 0/1: Training error: 0.2253026952499191\n",
      "Epoch 0/1: Training error: 0.22468574694530924\n",
      "Epoch 0/1: Training error: 0.2240654261251748\n",
      "Epoch 0/1: Training error: 0.2234320822161996\n",
      "Epoch 0/1: Training error: 0.2227714689718958\n",
      "Epoch 0/1: Training error: 0.22206591527602126\n",
      "Epoch 0/1: Training error: 0.22129476457343655\n",
      "Epoch 0/1: Training error: 0.22043455462985634\n",
      "Epoch 0/1: Training error: 0.2194607514825647\n",
      "Epoch 0/1: Training error: 0.21835016851151362\n",
      "Epoch 0/1: Training error: 0.21708360643162258\n",
      "Epoch 0/1: Training error: 0.21564844979724454\n",
      "Epoch 0/1: Training error: 0.21404008591723034\n",
      "Epoch 0/1: Training error: 0.2122614925479162\n",
      "Epoch 0/1: Training error: 0.21032156494763568\n",
      "Epoch 0/1: Training error: 0.2082332395665534\n",
      "Epoch 0/1: Training error: 0.2060120989857213\n",
      "Epoch 0/1: Training error: 0.20367543459208892\n",
      "Epoch 0/1: Training error: 0.2012412317009423\n",
      "Epoch 0/1: Training error: 0.1987266914559802\n",
      "Epoch 0/1: Training error: 0.1961465073441448\n",
      "Epoch 0/1: Training error: 0.19351141520416942\n",
      "Epoch 0/1: Training error: 0.19082734912904387\n",
      "Epoch 0/1: Training error: 0.18809522793628683\n",
      "Epoch 0/1: Training error: 0.18531118342258093\n",
      "Epoch 0/1: Training error: 0.1824669737764899\n",
      "Epoch 0/1: Training error: 0.1795503974570224\n",
      "Epoch 0/1: Training error: 0.176545628432289\n",
      "Epoch 0/1: Training error: 0.17343346512844673\n",
      "Epoch 0/1: Training error: 0.1701915560359249\n",
      "Epoch 0/1: Training error: 0.16679475119863077\n",
      "Epoch 0/1: Training error: 0.16321580722273016\n",
      "Epoch 0/1: Training error: 0.15942669728265105\n",
      "Epoch 0/1: Training error: 0.1554006249102637\n",
      "Epoch 0/1: Training error: 0.1511143828444895\n",
      "Epoch 0/1: Training error: 0.14655006055564634\n",
      "Epoch 0/1: Training error: 0.14169485556974995\n",
      "Epoch 0/1: Training error: 0.13653858490910603\n",
      "Epoch 0/1: Training error: 0.13107036381277667\n",
      "Epoch 0/1: Training error: 0.12527762030140788\n",
      "Epoch 0/1: Training error: 0.1191507805763807\n",
      "Epoch 0/1: Training error: 0.11269486091702995\n",
      "Epoch 0/1: Training error: 0.10594462419738027\n",
      "Epoch 0/1: Training error: 0.09897486945518535\n",
      "Epoch 0/1: Training error: 0.09189789167139689\n",
      "Epoch 0/1: Training error: 0.08484891102353645\n",
      "Epoch 0/1: Training error: 0.07796755728422138\n",
      "Epoch 0/1: Training error: 0.07138113394126283\n",
      "Epoch 0/1: Training error: 0.06519064668164398\n",
      "Epoch 0/1: Training error: 0.059461632840722256\n",
      "Epoch 0/1: Training error: 0.054223440552373964\n",
      "Epoch 0/1: Training error: 0.049476508144431865\n",
      "Epoch 0/1: Training error: 0.045202659304405556\n",
      "Epoch 0/1: Training error: 0.04137288590680616\n",
      "Epoch 0/1: Training error: 0.03795187836177735\n",
      "Epoch 0/1: Training error: 0.03490154918637848\n",
      "Epoch 0/1: Training error: 0.03218354576196616\n",
      "Epoch 0/1: Training error: 0.029760834630284207\n",
      "Epoch 0/1: Training error: 0.027598968071826727\n",
      "Epoch 0/1: Training error: 0.025666645562315897\n",
      "Epoch 0/1: Training error: 0.02393580345219773\n",
      "Epoch 0/1: Training error: 0.02238166836948591\n",
      "Epoch 0/1: Training error: 0.020982566246022866\n",
      "Epoch 0/1: Training error: 0.01971957620406212\n",
      "Epoch 0/1: Training error: 0.018576263848736018\n",
      "Epoch 0/1: Training error: 0.017538402068861484\n",
      "Epoch 0/1: Training error: 0.01659365483059315\n",
      "Epoch 0/1: Training error: 0.015731321172484592\n",
      "Epoch 0/1: Training error: 0.014942123993949806\n",
      "Epoch 0/1: Training error: 0.014218003983397277\n",
      "Epoch 0/1: Training error: 0.013551940418816973\n",
      "Epoch 0/1: Training error: 0.012937808100057738\n",
      "Epoch 0/1: Training error: 0.012370252997264748\n",
      "Epoch 0/1: Training error: 0.011844581709262282\n",
      "Epoch 0/1: Training error: 0.01135666898398499\n",
      "Epoch 0/1: Training error: 0.010902880738402388\n",
      "Epoch 0/1: Training error: 0.010480007668278571\n",
      "Epoch 0/1: Training error: 0.010085208021866474\n",
      "Epoch 0/1: Training error: 0.009715959118750287\n",
      "Epoch 0/1: Training error: 0.009370016156786305\n",
      "Epoch 0/1: Training error: 0.009045376813143758\n",
      "Epoch 0/1: Training error: 0.008740250775853163\n",
      "Epoch 0/1: Training error: 0.008453033581325854\n",
      "Epoch 0/1: Training error: 0.00818228410401198\n",
      "Epoch 0/1: Training error: 0.007926705105797911\n",
      "Epoch 0/1: Training error: 0.007685126384654599\n",
      "Epoch 0/1: Training error: 0.0074564901529401255\n",
      "Epoch 0/1: Training error: 0.007239838324857737\n",
      "Epoch 0/1: Training error: 0.007034301435792145\n",
      "Epoch 0/1: Training error: 0.00683908896057439\n",
      "Epoch 0/1: Training error: 0.0066534808356173165\n",
      "Epoch 0/1: Training error: 0.00647682001948063\n",
      "Epoch 0/1: Training error: 0.0063085059506111825\n",
      "Epoch 0/1: Training error: 0.006147988781747225\n",
      "Epoch 0/1: Training error: 0.0059947642882096815\n",
      "Epoch 0/1: Training error: 0.005848369362222102\n",
      "Epoch 0/1: Training error: 0.005708378017927148\n",
      "Epoch 0/1: Training error: 0.005574397842357396\n",
      "Epoch 0/1: Training error: 0.005446066836615406\n",
      "Epoch 0/1: Training error: 0.005323050599172411\n",
      "Epoch 0/1: Training error: 0.005205039809712747\n",
      "Epoch 0/1: Training error: 0.005091747977511059\n",
      "Epoch 0/1: Training error: 0.00498290942308281\n",
      "Epoch 0/1: Training error: 0.004878277465921517\n",
      "Epoch 0/1: Training error: 0.004777622794632941\n",
      "Epoch 0/1: Training error: 0.004680731998784222\n",
      "Epoch 0/1: Training error: 0.0045874062443782785\n",
      "Epoch 0/1: Training error: 0.004497460077102185\n",
      "Epoch 0/1: Training error: 0.004410720339434749\n",
      "Epoch 0/1: Training error: 0.0043270251893770696\n",
      "Epoch 0/1: Training error: 0.0042462232100273405\n",
      "Epoch 0/1: Training error: 0.004168172600489089\n",
      "Epoch 0/1: Training error: 0.004092740439706905\n",
      "Epoch 0/1: Training error: 0.004019802015788366\n",
      "Epoch 0/1: Training error: 0.003949240214214199\n",
      "Epoch 0/1: Training error: 0.0038809449590776366\n",
      "Epoch 0/1: Training error: 0.0038148127021420328\n",
      "Epoch 0/1: Training error: 0.0037507459550754725\n",
      "Epoch 0/1: Training error: 0.003688652860722416\n",
      "Epoch 0/1: Training error: 0.0036284467997144284\n",
      "Epoch 0/1: Training error: 0.0035700460291121965\n",
      "Epoch 0/1: Training error: 0.003513373350116021\n",
      "Epoch 0/1: Training error: 0.003458355802187487\n",
      "Epoch 0/1: Training error: 0.003404924381195865\n",
      "Epoch 0/1: Training error: 0.003353013779443342\n",
      "Epoch 0/1: Training error: 0.003302562145637059\n",
      "Epoch 0/1: Training error: 0.0032535108630663877\n",
      "Epoch 0/1: Training error: 0.0032058043444136222\n",
      "Epoch 0/1: Training error: 0.003159389841777909\n",
      "Epoch 0/1: Training error: 0.003114217270627618\n",
      "Epoch 0/1: Training error: 0.003070239046517741\n",
      "Epoch 0/1: Training error: 0.0030274099335174127\n",
      "Epoch 0/1: Training error: 0.002985686903390237\n",
      "Epoch 0/1: Training error: 0.0029450290046575704\n",
      "Epoch 0/1: Training error: 0.002905397240753672\n",
      "Epoch 0/1: Training error: 0.0028667544565524816\n",
      "Epoch 0/1: Training error: 0.0028290652326096615\n",
      "Epoch 0/1: Training error: 0.002792295786521138\n",
      "Epoch 0/1: Training error: 0.0027564138808514244\n",
      "Epoch 0/1: Training error: 0.002721388737132089\n",
      "Epoch 0/1: Training error: 0.002687190955473221\n",
      "Epoch 0/1: Training error: 0.002653792439369409\n",
      "Epoch 0/1: Training error: 0.002621166325316689\n",
      "Epoch 0/1: Training error: 0.002589286916888638\n",
      "Epoch 0/1: Training error: 0.002558129622948694\n",
      "Epoch 0/1: Training error: 0.002527670899701948\n",
      "Epoch 0/1: Training error: 0.0024978881963135992\n",
      "Epoch 0/1: Training error: 0.0024687599038429597\n",
      "Epoch 0/1: Training error: 0.002440265307261756\n",
      "Epoch 0/1: Training error: 0.002412384540343586\n",
      "Epoch 0/1: Training error: 0.002385098543227902\n",
      "Epoch 0/1: Training error: 0.0023583890224770244\n",
      "Epoch 0/1: Training error: 0.0023322384134585204\n",
      "Epoch 0/1: Training error: 0.002306629844897945\n",
      "Epoch 0/1: Training error: 0.002281547105458514\n",
      "Epoch 0/1: Training error: 0.0022569746122150162\n",
      "Epoch 0/1: Training error: 0.0022328973808989068\n",
      "Epoch 0/1: Training error: 0.0022093009978006264\n",
      "Epoch 0/1: Training error: 0.002186171593223354\n",
      "Epoch 0/1: Training error: 0.0021634958163900216\n",
      "Epoch 0/1: Training error: 0.0021412608117123977\n",
      "Epoch 0/1: Training error: 0.0021194541963374934\n",
      "Epoch 0/1: Training error: 0.0020980640388924467\n",
      "Epoch 0/1: Training error: 0.0020770788393545472\n",
      "Epoch 0/1: Training error: 0.002056487509978077\n",
      "Epoch 0/1: Training error: 0.0020362793572143473\n",
      "Epoch 0/1: Training error: 0.0020164440645655877\n",
      "Epoch 0/1: Training error: 0.0019969716763173604\n",
      "Epoch 0/1: Training error: 0.0019778525820978304\n",
      "Epoch 0/1: Training error: 0.001959077502215683\n",
      "Epoch 0/1: Training error: 0.0019406374737316204\n",
      "Epoch 0/1: Training error: 0.0019225238372212708\n"
     ]
    }
   ],
   "source": [
    "error_list_training = []\n",
    "error_list_test = []\n",
    "\n",
    "accuracy_list_training = []\n",
    "accuracy_list_test = []\n",
    "\n",
    "for _ in range(epochs):\n",
    "    error_test = neuralNetwork.train(target_inputs_training=target_inputs_train,\n",
    "                                     target_outputs_training=target_outputs_train,\n",
    "                                     learning_rate = learning_rate,\n",
    "                                     regularization_term = regularization_term,\n",
    "                                     momentum_term = momentum_term, epochs=1)\n",
    "    error_list_training.append(error_test[0])\n",
    "\n",
    "    output_nn_test = neuralNetwork.predict(target_inputs_test)\n",
    "    error_test = MeanSquaredError().calculate_total_error(target_output=target_outputs_test, output_nn=output_nn_test)\n",
    "    error_list_test.append(error_test)\n",
    "\n",
    "    # accuracy test\n",
    "    accuracy_test = get_accuracy(neuralNetwork, target_inputs=target_inputs_test, target_outputs=target_outputs_test)\n",
    "    accuracy_list_test.append(accuracy_test)\n",
    "\n",
    "    # accuracy training\n",
    "    accuracy_training = get_accuracy(neuralNetwork, target_inputs=target_inputs_train, target_outputs=target_outputs_train)\n",
    "    accuracy_list_training.append(accuracy_training)"
   ],
   "metadata": {
    "collapsed": false,
    "ExecuteTime": {
     "end_time": "2023-05-06T14:32:57.832477100Z",
     "start_time": "2023-05-06T14:32:49.444820Z"
    }
   }
  },
  {
   "cell_type": "markdown",
   "source": [
    "### ERROR plot"
   ],
   "metadata": {
    "collapsed": false
   }
  },
  {
   "cell_type": "code",
   "execution_count": 8,
   "outputs": [
    {
     "data": {
      "text/plain": "<Figure size 600x600 with 1 Axes>",
      "image/png": "[encoded data removed]"
     },
     "metadata": {},
     "output_type": "display_data"
    }
   ],
   "source": [
    "plt.figure(figsize=(6, 6))\n",
    "plt.plot(error_list_training, label=f\"Training\")\n",
    "plt.plot(error_list_test, label=f\"Test\")\n",
    "plt.legend()\n",
    "plt.show()"
   ],
   "metadata": {
    "collapsed": false,
    "ExecuteTime": {
     "end_time": "2023-05-06T14:32:57.995630600Z",
     "start_time": "2023-05-06T14:32:57.832477100Z"
    }
   }
  },
  {
   "cell_type": "markdown",
   "source": [
    "### Accuracy plot"
   ],
   "metadata": {
    "collapsed": false
   }
  },
  {
   "cell_type": "code",
   "execution_count": 9,
   "outputs": [
    {
     "data": {
      "text/plain": "<Figure size 600x600 with 1 Axes>",
      "image/png": "[encoded data removed]"
     },
     "metadata": {},
     "output_type": "display_data"
    }
   ],
   "source": [
    "plt.figure(figsize=(6, 6))\n",
    "plt.plot(accuracy_list_training, label=f\"Training\")\n",
    "plt.plot(accuracy_list_test, label=f\"Test\")\n",
    "plt.legend()\n",
    "plt.show()"
   ],
   "metadata": {
    "collapsed": false,
    "ExecuteTime": {
     "end_time": "2023-05-06T14:32:58.125968100Z",
     "start_time": "2023-05-06T14:32:57.995630600Z"
    }
   }
  },
  {
   "cell_type": "code",
   "execution_count": 10,
   "outputs": [
    {
     "data": {
      "text/plain": "100.0"
     },
     "execution_count": 10,
     "metadata": {},
     "output_type": "execute_result"
    }
   ],
   "source": [
    "accuracy_list_test[-1]"
   ],
   "metadata": {
    "collapsed": false,
    "ExecuteTime": {
     "end_time": "2023-05-06T14:32:58.141984700Z",
     "start_time": "2023-05-06T14:32:58.125968100Z"
    }
   }
  },
  {
   "cell_type": "code",
   "execution_count": 11,
   "outputs": [
    {
     "data": {
      "text/plain": "100.0"
     },
     "execution_count": 11,
     "metadata": {},
     "output_type": "execute_result"
    }
   ],
   "source": [
    "accuracy_list_training[-1]"
   ],
   "metadata": {
    "collapsed": false,
    "ExecuteTime": {
     "end_time": "2023-05-06T14:32:58.204516300Z",
     "start_time": "2023-05-06T14:32:58.141984700Z"
    }
   }
  }
 ],
 "metadata": {
  "kernelspec": {
   "display_name": "Python 3",
   "language": "python",
   "name": "python3"
  },
  "language_info": {
   "codemirror_mode": {
    "name": "ipython",
    "version": 2
   },
   "file_extension": ".py",
   "mimetype": "text/x-python",
   "name": "python",
   "nbconvert_exporter": "python",
   "pygments_lexer": "ipython2",
   "version": "2.7.6"
  }
 },
 "nbformat": 4,
 "nbformat_minor": 0
}
