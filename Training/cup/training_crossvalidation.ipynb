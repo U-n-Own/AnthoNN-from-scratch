{
 "cells": [
  {
   "cell_type": "code",
   "execution_count": null,
   "metadata": {
    "collapsed": true
   },
   "outputs": [],
   "source": [
    "import sys\n",
    "\n",
    "from matplotlib import pyplot as plt\n",
    "\n",
    "\n",
    "sys.path.append('../../') #serve per fare l'import di file in un'altra directory sullo stesso \"livello\"\n",
    "\n",
    "from src.load_ds import load_matrix\n",
    "from src.neuralNetwork.Layer import Layer\n",
    "from src.neuralNetwork.NeuralNetwork import NeuralNetwork\n",
    "from src.neuralNetwork.error import MeanEuclidianError, MeanAbsolutePercentageError\n",
    "from src.neuralNetwork.function import SoftplusFunction, IdentityFunction, ReLuFunction\n",
    "from src.training.crossvalidation import grid_search"
   ]
  },
  {
   "cell_type": "raw",
   "source": [
    "Lettura input e output"
   ],
   "metadata": {
    "collapsed": false
   }
  },
  {
   "cell_type": "code",
   "execution_count": null,
   "outputs": [],
   "source": [
    "target_inputs, target_outputs = load_matrix('../../datasets/CUP/model_selection')"
   ],
   "metadata": {
    "collapsed": false
   }
  },
  {
   "cell_type": "raw",
   "source": [
    "Definizione modello e iper-parametri"
   ],
   "metadata": {
    "collapsed": false
   }
  },
  {
   "cell_type": "code",
   "execution_count": null,
   "outputs": [],
   "source": [
    "error = MeanAbsolutePercentageError()\n",
    "layer1 = Layer(num_neurons = 4, num_inputs = 9, activation_function = SoftplusFunction())\n",
    "layer2 = Layer(num_neurons = 2, num_inputs = 4, activation_function = IdentityFunction())\n",
    "neuralNetwork1 = NeuralNetwork([layer1, layer2], error=error)\n",
    "\n",
    "layer1 = Layer(num_neurons = 4, num_inputs = 9, activation_function = ReLuFunction())\n",
    "layer2 = Layer(num_neurons = 2, num_inputs = 4, activation_function = IdentityFunction())\n",
    "neuralNetwork2 = NeuralNetwork([layer1, layer2], error=error)\n",
    "\n",
    "parameters_grid_example = {\n",
    "        'model': [neuralNetwork1, neuralNetwork2], #\n",
    "        'learning_rate': [0.00001],\n",
    "        'momentum_term': [0.5],\n",
    "        'regularization_term': [0.01],\n",
    "        'epochs': [50]\n",
    "    }"
   ],
   "metadata": {
    "collapsed": false
   }
  },
  {
   "cell_type": "raw",
   "source": [
    "Grid search"
   ],
   "metadata": {
    "collapsed": false
   }
  },
  {
   "cell_type": "code",
   "execution_count": null,
   "outputs": [],
   "source": [
    "dict = grid_search(parameters_grid=parameters_grid_example, target_inputs=target_inputs, target_outputs=target_outputs, k=5)"
   ],
   "metadata": {
    "collapsed": false
   }
  },
  {
   "cell_type": "raw",
   "source": [
    "Plot (I model appaiano in ordine nel plot)"
   ],
   "metadata": {
    "collapsed": false
   }
  },
  {
   "cell_type": "code",
   "execution_count": null,
   "outputs": [],
   "source": [
    "training_error_history_list = dict[\"training_error_history_list\"]\n",
    "validation_error_history_list = dict[\"validation_error_history_list\"]\n",
    "parameters_list = dict[\"parameters_list\"]\n",
    "\n",
    "plt.figure(figsize=(15,15))\n",
    "\n",
    "for validation_error_history, parameters in zip(validation_error_history_list, parameters_list):\n",
    "    plt.plot(validation_error_history, label=f\"{parameters}\")\n",
    "\n",
    "plt.legend()"
   ],
   "metadata": {
    "collapsed": false
   }
  }
 ],
 "metadata": {
  "kernelspec": {
   "display_name": "Python 3",
   "language": "python",
   "name": "python3"
  },
  "language_info": {
   "codemirror_mode": {
    "name": "ipython",
    "version": 2
   },
   "file_extension": ".py",
   "mimetype": "text/x-python",
   "name": "python",
   "nbconvert_exporter": "python",
   "pygments_lexer": "ipython2",
   "version": "2.7.6"
  }
 },
 "nbformat": 4,
 "nbformat_minor": 0
}
