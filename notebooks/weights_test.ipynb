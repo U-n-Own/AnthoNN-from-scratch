{
 "cells": [
  {
   "attachments": {},
   "cell_type": "markdown",
   "metadata": {},
   "source": [
    "\n",
    "# Testing our weights again simple Tensorflow network to see if they work correctly"
   ]
  },
  {
   "cell_type": "code",
   "execution_count": 351,
   "metadata": {},
   "outputs": [],
   "source": [
    "\n",
    "import tensorflow as tf\n",
    "import numpy as np\n",
    "import matplotlib.pyplot as plt\n",
    "from tensorflow.keras.layers import Dense"
   ]
  },
  {
   "cell_type": "code",
   "execution_count": 352,
   "metadata": {},
   "outputs": [],
   "source": [
    "\n",
    "# Create a simple network with 1 input, 1 hidden layers of 2 nodes each and 1 output"
   ]
  },
  {
   "cell_type": "code",
   "execution_count": 353,
   "metadata": {},
   "outputs": [],
   "source": [
    "# Function is y = 4x\n",
    "target_inputs = np.array([-1,0,1,2,3,4], dtype=float)\n",
    "target_outputs = np.array([-4,0,4,8,12,16], dtype=float)\n",
    "\n",
    "# Layer 1 (input layer) with 2 neurons\n",
    "model = tf.keras.models.Sequential(Dense(units = 2, input_shape=[1]))\n",
    "model.add(Dense(3,))\n",
    "model.add(Dense(2,))"
   ]
  },
  {
   "cell_type": "code",
   "execution_count": 354,
   "metadata": {},
   "outputs": [],
   "source": [
    "# Train the network\n",
    "\n",
    "model.compile(optimizer='sgd', loss='mean_squared_error', metrics=['accuracy'])\n",
    "\n",
    "epochs = model.fit(target_inputs, target_outputs, epochs=100, verbose=0)"
   ]
  },
  {
   "cell_type": "code",
   "execution_count": 355,
   "metadata": {},
   "outputs": [
    {
     "data": {
      "text/plain": [
       "[<matplotlib.lines.Line2D at 0x7f030948d7e0>]"
      ]
     },
     "execution_count": 355,
     "metadata": {},
     "output_type": "execute_result"
    },
    {
     "data": {
      "image/png": "[encoded data removed]",
      "text/plain": [
       "<Figure size 640x480 with 1 Axes>"
      ]
     },
     "metadata": {},
     "output_type": "display_data"
    }
   ],
   "source": [
    "# Print learning curve, error curve\n",
    "plt.plot(epochs.history['loss'])"
   ]
  },
  {
   "cell_type": "code",
   "execution_count": 356,
   "metadata": {},
   "outputs": [
    {
     "name": "stdout",
     "output_type": "stream",
     "text": [
      "1/1 [==============================] - 0s 68ms/step\n",
      "Prediction: \n",
      " [[-3.9024913  -4.082317  ]\n",
      " [ 0.07532387 -0.06360236]\n",
      " [ 4.0531387   3.9551122 ]\n",
      " [ 8.030953    7.973826  ]\n",
      " [12.008768   11.99254   ]\n",
      " [15.986586   16.011255  ]]\n",
      "1/1 [==============================] - 0s 59ms/step\n",
      "Weights layer 0: \n",
      " [[-0.75607055 -1.3700451 ]]\n",
      "Weights layer 1: \n",
      " [[ 0.07075457 -0.90613467  0.8666374 ]\n",
      " [ 1.4053562  -0.9492526  -0.60465884]]\n",
      "Weights layer 2: \n",
      " [[-1.079379   -0.8402728 ]\n",
      " [ 0.9586811   1.0922132 ]\n",
      " [-0.35653618  1.0808996 ]]\n"
     ]
    }
   ],
   "source": [
    "# Show results now\n",
    "prediction = model.predict(target_inputs)\n",
    "\n",
    "print(\"Prediction: \\n\", prediction)\n",
    "\n",
    "model.predict([10.0])\n",
    "\n",
    "\n",
    "#Extract weight from model from layer 1,2,3\n",
    "weights_layer_0 = model.layers[0].get_weights()[0]\n",
    "weights_layer_1 = model.layers[1].get_weights()[0]\n",
    "weights_layer_2 = model.layers[2].get_weights()[0]\n",
    "\n",
    "print(\"Weights layer 0: \\n\", weights_layer_0)\n",
    "print(\"Weights layer 1: \\n\", weights_layer_1)\n",
    "print(\"Weights layer 2: \\n\", weights_layer_2)\n",
    "\n",
    "\n"
   ]
  }
 ],
 "metadata": {
  "kernelspec": {
   "display_name": "Python 3",
   "language": "python",
   "name": "python3"
  },
  "language_info": {
   "codemirror_mode": {
    "name": "ipython",
    "version": 3
   },
   "file_extension": ".py",
   "mimetype": "text/x-python",
   "name": "python",
   "nbconvert_exporter": "python",
   "pygments_lexer": "ipython3",
   "version": "3.10.8"
  },
  "orig_nbformat": 4,
  "vscode": {
   "interpreter": {
    "hash": "e7370f93d1d0cde622a1f8e1c04877d8463912d04d973331ad4851f04de6915a"
   }
  }
 },
 "nbformat": 4,
 "nbformat_minor": 2
}
