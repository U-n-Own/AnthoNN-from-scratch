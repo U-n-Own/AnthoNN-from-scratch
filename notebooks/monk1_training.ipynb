{
 "cells": [
  {
   "cell_type": "code",
   "execution_count": 113,
   "metadata": {
    "collapsed": true
   },
   "outputs": [],
   "source": [
    "import copy\n",
    "import multiprocessing\n",
    "import sys\n",
    "import time\n",
    "from asyncio import Queue\n",
    "\n",
    "import numpy as np\n",
    "\n",
    "sys.path.append('../') #server per fare l'import di file in un'altra directory sullo stesso \"livello\"\n",
    "from src.neuralNetwork.NeuralNetwork import mean_squared_error\n",
    "from src.training.Multiprocessing_gridSearch import grid_search\n",
    "from src.neuralNetwork.function import ReLuFunction, SigmoideFunction, IdentityFunction, TanhFunction\n",
    "from src.neuralNetwork.NeuralNetwork import NeuralNetwork, Layer\n",
    "from matplotlib import pyplot as plt\n",
    "from src.load_ds import load_monks, data_set_partitioning"
   ]
  },
  {
   "cell_type": "code",
   "execution_count": 114,
   "outputs": [],
   "source": [
    "target_inputs_train, target_outputs_train = load_monks('../datasets/monk/monks-3.train', shuffle=False)\n",
    "target_inputs_test, target_outputs_test = load_monks('../datasets/monk/monks-3.test', shuffle=False)"
   ],
   "metadata": {
    "collapsed": false
   }
  },
  {
   "cell_type": "code",
   "execution_count": 115,
   "outputs": [],
   "source": [
    "layer1 = Layer(num_neurons = 2, num_inputs = 17, activation_function = IdentityFunction())\n",
    "layer2 = Layer(num_neurons = 1, num_inputs = 2, activation_function = SigmoideFunction())\n",
    "neuralNetwork2 = NeuralNetwork([layer1, layer2])\n",
    "\n",
    "layer1 = Layer(num_neurons = 4, num_inputs = 17, activation_function = IdentityFunction())\n",
    "layer2 = Layer(num_neurons = 1, num_inputs = 4, activation_function = SigmoideFunction())\n",
    "neuralNetwork1 = NeuralNetwork([layer1, layer2])\n",
    "\n",
    "layer1 = Layer(num_neurons = 3, num_inputs = 17, activation_function = IdentityFunction())\n",
    "layer2 = Layer(num_neurons = 1, num_inputs = 3, activation_function = SigmoideFunction())\n",
    "neuralNetwork3 = NeuralNetwork([layer1, layer2])\n",
    "\n",
    "layer1 = Layer(num_neurons = 4, num_inputs = 17, activation_function = IdentityFunction())\n",
    "layer2 = Layer(num_neurons = 2, num_inputs = 4, activation_function = ReLuFunction())\n",
    "layer3 = Layer(num_neurons = 1, num_inputs = 2, activation_function = SigmoideFunction())\n",
    "neuralNetwork4 = NeuralNetwork([layer1, layer2, layer3])"
   ],
   "metadata": {
    "collapsed": false
   }
  },
  {
   "cell_type": "code",
   "execution_count": 116,
   "outputs": [],
   "source": [
    "parameters_grid = {\n",
    "    'model': [neuralNetwork3],\n",
    "    'learning_rate': [0.04],\n",
    "    'momentum_term': [0.5],\n",
    "    'regularization_term': [0],\n",
    "    'epochs': [200]\n",
    "}"
   ],
   "metadata": {
    "collapsed": false
   }
  },
  {
   "cell_type": "code",
   "execution_count": 117,
   "outputs": [
    {
     "name": "stdout",
     "output_type": "stream",
     "text": [
      "Processo 57648 avviato\n",
      "Process  57648  terminated\n"
     ]
    },
    {
     "data": {
      "text/plain": "<Figure size 720x720 with 1 Axes>",
      "image/png": "[encoded data removed]"
     },
     "metadata": {
      "needs_background": "light"
     },
     "output_type": "display_data"
    }
   ],
   "source": [
    "models_error = grid_search(parameters_grid, target_inputs=target_inputs_train, target_outputs=target_outputs_train)\n",
    "plt.figure(figsize=(10, 10))\n",
    "for param, error_list in models_error:\n",
    "    plt.plot(error_list, label=f\"{param}\")\n",
    "plt.legend()\n",
    "plt.show()"
   ],
   "metadata": {
    "collapsed": false
   }
  },
  {
   "cell_type": "code",
   "execution_count": 118,
   "outputs": [
    {
     "data": {
      "text/plain": "52.77777777777778"
     },
     "execution_count": 118,
     "metadata": {},
     "output_type": "execute_result"
    }
   ],
   "source": [
    "def get_accuracy(neuralNetwork, target_inputs, target_outputs):\n",
    "    output_nn = neuralNetwork.predict(target_inputs)\n",
    "\n",
    "    output_nn = np.matrix(np.where(output_nn >= 0.5, 1, output_nn))\n",
    "    output_nn = np.matrix(np.where(output_nn < 0.5, 0, output_nn))\n",
    "    incorrect_prediction = np.sum(np.abs(target_outputs - output_nn))\n",
    "\n",
    "    accuracy = (1- incorrect_prediction / target_outputs.shape[0])*100\n",
    "    return accuracy\n",
    "\n",
    "get_accuracy(neuralNetwork=neuralNetwork1, target_inputs=target_inputs_test, target_outputs=target_outputs_test)"
   ],
   "metadata": {
    "collapsed": false
   }
  }
 ],
 "metadata": {
  "kernelspec": {
   "display_name": "Python 3",
   "language": "python",
   "name": "python3"
  },
  "language_info": {
   "codemirror_mode": {
    "name": "ipython",
    "version": 2
   },
   "file_extension": ".py",
   "mimetype": "text/x-python",
   "name": "python",
   "nbconvert_exporter": "python",
   "pygments_lexer": "ipython2",
   "version": "2.7.6"
  }
 },
 "nbformat": 4,
 "nbformat_minor": 0
}
