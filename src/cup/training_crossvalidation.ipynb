{
 "cells": [
  {
   "cell_type": "code",
   "execution_count": 42,
   "metadata": {
    "collapsed": true
   },
   "outputs": [],
   "source": [
    "\n",
    "import sys\n",
    "\n",
    "\n",
    "sys.path.append('../../') #server per fare l'import di file in un'altra directory sullo stesso \"livello\"\n",
    "from src.function import SoftplusFunction\n",
    "from src.NeuralNetwork import Layer, NeuralNetwork\n",
    "from src.function import IdentityFunction, ReLuFunction\n",
    "from matplotlib import pyplot as plt\n",
    "from src.load_ds import load_matrix\n",
    "from src.error import MeanSquaredError, MeanEuclidianError, MeanAbsoluteError\n",
    "from src.training.crossvalidation import grid_search\n",
    "# from src.training.multiprocessing_crossvalidation import grid_search"
   ]
  },
  {
   "cell_type": "raw",
   "source": [
    "Lettura input e output"
   ],
   "metadata": {
    "collapsed": false
   }
  },
  {
   "cell_type": "code",
   "execution_count": 43,
   "outputs": [],
   "source": [
    "target_inputs, target_outputs = load_matrix('../../datasets/CUP/model_selection')"
   ],
   "metadata": {
    "collapsed": false
   }
  },
  {
   "cell_type": "raw",
   "source": [
    "Definizione modello e iper-parametri"
   ],
   "metadata": {
    "collapsed": false
   }
  },
  {
   "cell_type": "code",
   "execution_count": 44,
   "outputs": [],
   "source": [
    "layer1 = Layer(num_neurons = 4, num_inputs = 9, activation_function = SoftplusFunction())\n",
    "layer2 = Layer(num_neurons = 2, num_inputs = 4, activation_function = IdentityFunction())\n",
    "neuralNetwork1 = NeuralNetwork([layer1, layer2], error=MeanEuclidianError())\n",
    "\n",
    "layer1 = Layer(num_neurons = 4, num_inputs = 9, activation_function = ReLuFunction())\n",
    "layer2 = Layer(num_neurons = 2, num_inputs = 4, activation_function = IdentityFunction())\n",
    "neuralNetwork2 = NeuralNetwork([layer1, layer2], error=MeanEuclidianError())\n",
    "\n",
    "parameters_grid_example = {\n",
    "        'model': [neuralNetwork1], #\n",
    "        'learning_rate': [0.00001],\n",
    "        'momentum_term': [0.5],\n",
    "        'regularization_term': [0.01],\n",
    "        'epochs': [50]\n",
    "    }"
   ],
   "metadata": {
    "collapsed": false
   }
  },
  {
   "cell_type": "raw",
   "source": [
    "Grid search"
   ],
   "metadata": {
    "collapsed": false
   }
  },
  {
   "cell_type": "code",
   "execution_count": 45,
   "outputs": [
    {
     "name": "stdout",
     "output_type": "stream",
     "text": [
      "Fold  0\n",
      "Fold  1\n",
      "Fold  2\n",
      "Fold  3\n",
      "Fold  4\n",
      "Process 39081 started\n",
      "Process 39086 started\n",
      "Process 39091 started\n",
      "Process 39096 started\n",
      "Process 39101 started\n",
      "Process 39040 started\n",
      "fatto training\n",
      "fatto training\n",
      "Process  39081  terminated\n",
      "fatto training\n",
      "fatto training\n",
      "Process  39086  terminated\n",
      "Process  39091  terminated\n",
      "fatto training\n",
      "Process  39096  terminated\n",
      "Process  39101  terminated\n",
      "Process  39040  terminated\n"
     ]
    }
   ],
   "source": [
    "dict = grid_search(parameters_grid=parameters_grid_example, target_inputs=target_inputs, target_outputs=target_outputs, k=5)"
   ],
   "metadata": {
    "collapsed": false
   }
  },
  {
   "cell_type": "raw",
   "source": [
    "Plot (I model appaiano in ordine nel plot)"
   ],
   "metadata": {
    "collapsed": false
   }
  },
  {
   "cell_type": "code",
   "execution_count": 46,
   "outputs": [
    {
     "data": {
      "text/plain": "<matplotlib.legend.Legend at 0x7f2332079a58>"
     },
     "execution_count": 46,
     "metadata": {},
     "output_type": "execute_result"
    },
    {
     "data": {
      "text/plain": "<Figure size 1080x1080 with 1 Axes>",
      "image/png": "[encoded data removed]"
     },
     "metadata": {
      "needs_background": "light"
     },
     "output_type": "display_data"
    }
   ],
   "source": [
    "training_error_history_list = dict[\"training_error_history_list\"]\n",
    "validation_error_history_list = dict[\"validation_error_history_list\"]\n",
    "parameters_list = dict[\"parameters_list\"]\n",
    "\n",
    "plt.figure(figsize=(15,15))\n",
    "\n",
    "for validation_error_history, parameters in zip(validation_error_history_list, parameters_list):\n",
    "    plt.plot(validation_error_history, label=f\"{parameters}\")\n",
    "\n",
    "plt.legend()"
   ],
   "metadata": {
    "collapsed": false
   }
  }
 ],
 "metadata": {
  "kernelspec": {
   "display_name": "Python 3",
   "language": "python",
   "name": "python3"
  },
  "language_info": {
   "codemirror_mode": {
    "name": "ipython",
    "version": 2
   },
   "file_extension": ".py",
   "mimetype": "text/x-python",
   "name": "python",
   "nbconvert_exporter": "python",
   "pygments_lexer": "ipython2",
   "version": "2.7.6"
  }
 },
 "nbformat": 4,
 "nbformat_minor": 0
}
