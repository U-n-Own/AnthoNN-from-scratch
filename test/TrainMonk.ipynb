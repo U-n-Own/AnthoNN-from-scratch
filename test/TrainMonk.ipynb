{
 "cells": [
  {
   "cell_type": "code",
   "execution_count": 1,
   "metadata": {},
   "outputs": [],
   "source": [
    "sys.path.append('../') #server per fare l'import di file in un'altra directory sullo stesso \"livello\"\n",
    "import matplotlib.pyplot as plt\n",
    "from src.NeuralNetwork import NeuralNetwork, Layer\n",
    "from src.function import IdentityFunction, SigmoideFunction\n",
    "from src.load_ds import load_monks_1_train\n",
    "import numpy as np"
   ]
  },
  {
   "cell_type": "code",
   "execution_count": 2,
   "metadata": {},
   "outputs": [],
   "source": [
    "# Loading data\n",
    "target_inputs, target_outputs = load_monks_1_train()\n",
    "\n"
   ]
  },
  {
   "cell_type": "code",
   "execution_count": 3,
   "metadata": {},
   "outputs": [],
   "source": [
    "# Monk has an input of 17 features (after one-hot encoding) and 1 output (0 or 1)\n",
    "# Generating model\n",
    "input_layer = Layer(num_neurons = 6, num_inputs = 17, activation_function = SigmoideFunction())\n",
    "hidden_layer = Layer(num_neurons = 10, num_inputs = 6, activation_function = IdentityFunction())\n",
    "output_layer = Layer(num_neurons = 1, num_inputs = 10, activation_function = SigmoideFunction())\n",
    "\n",
    "neuralNetwork = NeuralNetwork([input_layer, hidden_layer, output_layer])\n"
   ]
  },
  {
   "cell_type": "code",
   "execution_count": 4,
   "metadata": {},
   "outputs": [],
   "source": [
    "# Training\n",
    "\n",
    "error_history = neuralNetwork.train(target_inputs, target_outputs, epochs = 200, learning_rate = 0.01, regularization_term=0.1, momentum_term=0.5)"
   ]
  },
  {
   "cell_type": "code",
   "execution_count": null,
   "metadata": {},
   "outputs": [],
   "source": [
    "# Show results\n",
    "plt.plot(error_history)"
   ]
  }
 ],
 "metadata": {
  "kernelspec": {
   "display_name": "Python 3",
   "language": "python",
   "name": "python3"
  },
  "language_info": {
   "codemirror_mode": {
    "name": "ipython",
    "version": 3
   },
   "file_extension": ".py",
   "mimetype": "text/x-python",
   "name": "python",
   "nbconvert_exporter": "python",
   "pygments_lexer": "ipython3",
   "version": "3.10.8"
  },
  "orig_nbformat": 4,
  "vscode": {
   "interpreter": {
    "hash": "e7370f93d1d0cde622a1f8e1c04877d8463912d04d973331ad4851f04de6915a"
   }
  }
 },
 "nbformat": 4,
 "nbformat_minor": 2
}
