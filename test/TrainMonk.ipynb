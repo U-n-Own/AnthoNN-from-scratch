{
 "cells": [
  {
   "cell_type": "code",
   "execution_count": 23,
   "metadata": {
    "collapsed": true
   },
   "outputs": [],
   "source": [
    "import copy\n",
    "import sys\n",
    "import numpy as np\n",
    "import pandas as pd\n",
    "\n",
    "\n",
    "sys.path.append('../') #server per fare l'import di file in un'altra directory sullo stesso \"livello\"\n",
    "from src.NeuralNetwork import Layer, NeuralNetwork, calculate_total_error\n",
    "from src.function import IdentityFunction, SigmoideFunction, ReLuFunction\n",
    "from matplotlib import pyplot as plt\n",
    "from src.load_ds import load_monks_1_train"
   ]
  },
  {
   "cell_type": "code",
   "execution_count": 24,
   "outputs": [],
   "source": [
    "learning_rate = 0.01\n",
    "regularization_term = 0\n",
    "epoch = 50"
   ],
   "metadata": {
    "collapsed": false
   }
  },
  {
   "cell_type": "code",
   "execution_count": 25,
   "outputs": [],
   "source": [
    "target_inputs, target_outputs = load_monks_1_train()"
   ],
   "metadata": {
    "collapsed": false
   }
  },
  {
   "cell_type": "markdown",
   "source": [
    "# PyTorch"
   ],
   "metadata": {
    "collapsed": false
   }
  },
  {
   "cell_type": "code",
   "execution_count": 26,
   "outputs": [],
   "source": [
    "# Torch model\n",
    "import torch\n",
    "\n",
    "# to tensors (float)\n",
    "target_inputs_torch = torch.tensor(target_inputs, dtype=torch.float)\n",
    "target_outputs_torch = torch.tensor(target_outputs, dtype=torch.float)\n",
    "\n",
    "train_errors = []\n",
    "\n",
    "\n",
    "class SimpleModel(torch.nn.Module):\n",
    "    def __init__(self):\n",
    "        super().__init__()\n",
    "        self.linear1 = torch.nn.Linear(17, 5, bias=True)\n",
    "        self.linear2 = torch.nn.Linear(5, 4, bias=True)\n",
    "        self.linear3 = torch.nn.Linear(4, 1, bias=True)\n",
    "\n",
    "    def forward(self, x):\n",
    "        x = self.linear1(x)\n",
    "        x = torch.relu(x)  # apply ReLU activation function\n",
    "\n",
    "        x = self.linear2(x)\n",
    "        x = torch.relu(x)  # apply ReLU activation function\n",
    "\n",
    "        x = self.linear3(x)\n",
    "        x = torch.sigmoid(x)\n",
    "\n",
    "        return x\n",
    "\n",
    "    # funzione loss usata nel corso\n",
    "class CustomLoss(torch.nn.Module):\n",
    "    def __init__(self):\n",
    "        super(CustomLoss, self).__init__()\n",
    "\n",
    "    def forward(self, target_output, output_nn):\n",
    "        error_vector = (target_output - output_nn)**2 / 2\n",
    "        error_total = error_vector.sum()\n",
    "        return error_total\n",
    "\n",
    "# funzione loss usata nel corso\n",
    "class CustomError(torch.nn.Module):\n",
    "    def __init__(self):\n",
    "        super(CustomError, self).__init__()\n",
    "\n",
    "    def forward(self, target_output, output_nn):\n",
    "        error_vector = (target_output - output_nn)**2\n",
    "        error_total = error_vector.sum()\n",
    "        return error_total\n",
    "\n",
    "model = SimpleModel()\n",
    "# define the loss function\n",
    "loss_fn = CustomLoss()\n",
    "error_fn = CustomError()\n",
    "\n",
    "\n",
    "weights1 = np.matrix(model.linear1.weight.detach().numpy()).copy()\n",
    "weights2 = np.matrix(model.linear2.weight.detach().numpy()).copy()\n",
    "weights3 = np.matrix(model.linear3.weight.detach().numpy()).copy()\n",
    "\n",
    "error_history_torch = []\n",
    "for _ in range(epoch):\n",
    "    # Define the loss function\n",
    "    loss_fn = CustomLoss()\n",
    "    error_fn = CustomError()\n",
    "\n",
    "    y_pred = model(target_inputs_torch)\n",
    "    loss = loss_fn(target_output = target_outputs_torch, output_nn = y_pred)\n",
    "\n",
    "    l2_reg = 0\n",
    "    for param in model.parameters():\n",
    "        l2_reg += (param ** 2).sum()\n",
    "\n",
    "    loss = loss + regularization_term*l2_reg\n",
    "\n",
    "    loss.backward()\n",
    "\n",
    "    # Manually update the weights\n",
    "    with torch.no_grad():\n",
    "        for param in model.parameters():\n",
    "            param += -(learning_rate * param.grad)\n",
    "\n",
    "    y_pred = model(target_inputs_torch)\n",
    "    error = error_fn(target_output = target_outputs_torch, output_nn = y_pred)\n",
    "    error_history_torch.append(error.item())\n",
    "\n",
    "    model.zero_grad()"
   ],
   "metadata": {
    "collapsed": false
   }
  },
  {
   "cell_type": "markdown",
   "source": [
    "# Nostro modello"
   ],
   "metadata": {
    "collapsed": false
   }
  },
  {
   "cell_type": "code",
   "execution_count": 27,
   "outputs": [],
   "source": [
    "layer1 = Layer(num_neurons = 5, num_inputs = 17, activation_function = ReLuFunction())\n",
    "layer2 = Layer(num_neurons = 4, num_inputs = 5, activation_function = ReLuFunction())\n",
    "layer3 = Layer(num_neurons = 1, num_inputs = 4, activation_function = SigmoideFunction())\n",
    "\n",
    "layer1.weights = weights1\n",
    "layer2.weights = weights2\n",
    "layer3.weights = weights3\n",
    "\n",
    "neuralNetwork = NeuralNetwork([layer1, layer2, layer3])\n",
    "\n",
    "deep_copy_layers = copy.deepcopy(neuralNetwork.layers)"
   ],
   "metadata": {
    "collapsed": false
   }
  },
  {
   "cell_type": "code",
   "execution_count": 28,
   "outputs": [
    {
     "data": {
      "text/plain": "<matplotlib.legend.Legend at 0x1bab18f7af0>"
     },
     "execution_count": 28,
     "metadata": {},
     "output_type": "execute_result"
    },
    {
     "data": {
      "text/plain": "<Figure size 640x480 with 1 Axes>",
      "image/png": "[encoded data removed]"
     },
     "metadata": {},
     "output_type": "display_data"
    }
   ],
   "source": [
    "for i in range(len(deep_copy_layers)):\n",
    "    neuralNetwork.layers[i].weights = deep_copy_layers[i].weights.copy()\n",
    "\n",
    "error_history = neuralNetwork.train(target_inputs, target_outputs,\n",
    "                                    epochs = epoch, learning_rate = learning_rate,\n",
    "                                    regularization_term=0, momentum_term=0)\n",
    "\n",
    "# error plot\n",
    "plt.plot(error_history  , label='modello pytorch')\n",
    "plt.plot(error_history_torch, label='modello nostro')\n",
    "plt.legend()"
   ],
   "metadata": {
    "collapsed": false
   }
  },
  {
   "cell_type": "code",
   "execution_count": 29,
   "outputs": [
    {
     "data": {
      "text/plain": "20.0"
     },
     "execution_count": 29,
     "metadata": {},
     "output_type": "execute_result"
    }
   ],
   "source": [
    "output_nn = neuralNetwork.predict(target_inputs)\n",
    "output_nn = np.matrix(np.where(output_nn >= 0.5, 1, output_nn))\n",
    "output_nn = np.matrix(np.where(output_nn < 0.5, 0, output_nn))\n",
    "calculate_total_error(target_output=target_outputs, output_nn=output_nn)"
   ],
   "metadata": {
    "collapsed": false
   }
  },
  {
   "cell_type": "markdown",
   "source": [
    "### Keras"
   ],
   "metadata": {
    "collapsed": false
   }
  },
  {
   "cell_type": "code",
   "execution_count": 30,
   "outputs": [],
   "source": [
    "# from keras.models import Sequential\n",
    "# from keras.layers import Dense\n",
    "# from keras.optimizers import Adam\n",
    "#\n",
    "# # Create a model with one hidden layer and one output layer\n",
    "# model = Sequential()\n",
    "# model.add(Dense(4, input_dim=17, activation='relu'))\n",
    "# model.add(Dense(4, activation='relu'))\n",
    "# model.add(Dense(1, activation='sigmoid'))\n",
    "#\n",
    "# for layer in model.layers:\n",
    "#     weights, biases = layer.get_weights()\n",
    "#     # Set the bias values to zero\n",
    "#     biases = [np.zeros_like(bias) for bias in biases]\n",
    "#\n",
    "# # Create an Adam optimizer with a learning rate of 0.001\n",
    "# optimizer = Adam(learning_rate=learning_rate)\n",
    "# model.compile(loss='mean_squared_error', optimizer=optimizer)\n",
    "# history = model.fit(target_inputs, target_outputs, batch_size=124, epochs=epoch)"
   ],
   "metadata": {
    "collapsed": false
   }
  },
  {
   "cell_type": "code",
   "execution_count": 31,
   "outputs": [],
   "source": [
    "# plt.plot(history.history['loss'])"
   ],
   "metadata": {
    "collapsed": false
   }
  },
  {
   "cell_type": "code",
   "execution_count": 32,
   "outputs": [],
   "source": [
    "# history.history['loss'][-1]"
   ],
   "metadata": {
    "collapsed": false
   }
  },
  {
   "cell_type": "code",
   "execution_count": 33,
   "outputs": [],
   "source": [
    "# output_nn_keras = model.predict(target_inputs)\n",
    "# output_nn_keras = np.matrix(np.where(output_nn_keras >= 0.5, 1, output_nn_keras))\n",
    "# output_nn_keras = np.matrix(np.where(output_nn_keras < 0.5, 0, output_nn_keras))\n",
    "# calculate_total_error(target_output=target_outputs, output_nn=output_nn_keras)"
   ],
   "metadata": {
    "collapsed": false
   }
  }
 ],
 "metadata": {
  "kernelspec": {
   "display_name": "Python 3",
   "language": "python",
   "name": "python3"
  },
  "language_info": {
   "codemirror_mode": {
    "name": "ipython",
    "version": 2
   },
   "file_extension": ".py",
   "mimetype": "text/x-python",
   "name": "python",
   "nbconvert_exporter": "python",
   "pygments_lexer": "ipython2",
   "version": "2.7.6"
  }
 },
 "nbformat": 4,
 "nbformat_minor": 0
}
