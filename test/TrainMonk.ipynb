{
 "cells": [
  {
   "cell_type": "code",
   "execution_count": null,
   "metadata": {},
   "outputs": [],
   "source": [
    "sys.path.append('../') #server per fare l'import di file in un'altra directory sullo stesso \"livello\"\n",
    "import matplotlib.pyplot as plt\n",
    "from src.NeuralNetwork import NeuralNetwork, Layer\n",
    "from src.function import IdentityFunction, SigmoideFunction\n",
    "from src.load_ds import load_monks_1_train\n",
    "import numpy as np\n",
    "\n",
    "import torch\n",
    "import torch.nn as nn"
   ]
  },
  {
   "cell_type": "code",
   "execution_count": null,
   "metadata": {},
   "outputs": [],
   "source": [
    "# Loading data\n",
    "target_inputs, target_outputs = load_monks_1_train()\n",
    "\n"
   ]
  },
  {
   "cell_type": "code",
   "execution_count": null,
   "metadata": {},
   "outputs": [],
   "source": [
    "# Monk has an input of 17 features (after one-hot encoding) and 1 output (0 or 1)\n",
    "# Generating model\n",
    "input_layer = Layer(num_neurons = 5, num_inputs = 17, activation_function = SigmoideFunction())\n",
    "hidden_layer = Layer(num_neurons = 2, num_inputs = 5, activation_function = SigmoideFunction())\n",
    "output_layer = Layer(num_neurons = 1, num_inputs = 2, activation_function = SigmoideFunction())\n",
    "\n",
    "neuralNetwork = NeuralNetwork([input_layer, hidden_layer, output_layer])\n"
   ]
  },
  {
   "cell_type": "code",
   "execution_count": null,
   "metadata": {},
   "outputs": [],
   "source": [
    "# Training\n",
    "\n",
    "error_history = neuralNetwork.train(target_inputs, target_outputs, epochs = 100, learning_rate = 0.01, regularization_term=0.1, momentum_term=0.5)"
   ]
  },
  {
   "cell_type": "code",
   "execution_count": null,
   "metadata": {},
   "outputs": [],
   "source": [
    "plt.plot(error_history)"
   ]
  },
  {
   "cell_type": "code",
   "execution_count": null,
   "metadata": {},
   "outputs": [],
   "source": [
    "# Torch model\n",
    "import torch\n",
    "\n",
    "# to tensors (float)\n",
    "target_inputs = torch.tensor(target_inputs, dtype=torch.float)\n",
    "target_outputs = torch.tensor(target_outputs, dtype=torch.float)\n",
    "train_errors = []\n",
    "\n",
    "class SimpleModel(torch.nn.Module):\n",
    "    def __init__(self):\n",
    "        super().__init__()\n",
    "        self.linear1 = torch.nn.Linear(17, 5)\n",
    "        self.linear2 = torch.nn.Linear(5, 2)\n",
    "        self.linear3 = torch.nn.Linear(2, 1)\n",
    "        \n",
    "    def forward(self, x):\n",
    "        x = self.linear1(x)\n",
    "        x = torch.relu(x)  # apply ReLU activation function\n",
    "        x = self.linear2(x)\n",
    "        x = torch.relu(x)  # apply ReLU activation function\n",
    "        x = self.linear3(x)\n",
    "        x = torch.sigmoid(x)\n",
    "\n",
    "        return x\n",
    "\n",
    "model = SimpleModel()\n",
    "learning_rate = 0.01\n",
    "# define the loss function\n",
    "loss_fn = torch.nn.MSELoss()  # mean squared error loss\n",
    "\n",
    "# define the optimizer\n",
    "optimizer = torch.optim.SGD(model.parameters(), lr=0.01)  # stochastic gradient descent with a learning rate of 0.1\n",
    "\n",
    "#Set bias to 0\n",
    "model.linear1.bias = torch.nn.Parameter(torch.zeros(5))\n",
    "model.linear2.bias = torch.nn.Parameter(torch.zeros(2))\n",
    "model.linear3.bias = torch.nn.Parameter(torch.zeros(1))\n",
    "\n",
    "# loop over the training data\n",
    "for epoch in range(100):\n",
    "    \n",
    "    for x, y_true in zip(target_inputs, target_outputs):\n",
    "        # pass the input through the model to get the predictions\n",
    "        y_pred = model(x)\n",
    "\n",
    "        # compute the loss\n",
    "        loss = loss_fn(y_pred, y_true)\n",
    "\n",
    "        # zero the gradients before backpropagating\n",
    "        model.zero_grad()\n",
    "\n",
    "        # backpropagate the gradients\n",
    "        loss.backward()\n",
    "\n",
    "        # update the model's parameters\n",
    "        #model.step()\n",
    "        with torch.no_grad():\n",
    "            for param in model.parameters():\n",
    "                param -= learning_rate * param.grad\n",
    "\n",
    "    \n",
    "        \n",
    "    # store the training and validation errors\n",
    "    train_errors.append(loss.item())\n",
    "    \n",
    "# error plot\n",
    "\n",
    "plt.plot(train_errors)"
   ]
  }
 ],
 "metadata": {
  "kernelspec": {
   "display_name": "Python 3",
   "language": "python",
   "name": "python3"
  },
  "language_info": {
   "codemirror_mode": {
    "name": "ipython",
    "version": 3
   },
   "file_extension": ".py",
   "mimetype": "text/x-python",
   "name": "python",
   "nbconvert_exporter": "python",
   "pygments_lexer": "ipython3",
   "version": "3.10.8"
  },
  "orig_nbformat": 4,
  "vscode": {
   "interpreter": {
    "hash": "e7370f93d1d0cde622a1f8e1c04877d8463912d04d973331ad4851f04de6915a"
   }
  }
 },
 "nbformat": 4,
 "nbformat_minor": 2
}
