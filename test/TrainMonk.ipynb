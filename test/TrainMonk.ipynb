{
 "cells": [
  {
   "cell_type": "code",
   "execution_count": 2,
   "metadata": {},
   "outputs": [],
   "source": [
    "sys.path.append('../') #server per fare l'import di file in un'altra directory sullo stesso \"livello\"\n",
    "\n",
    "from src.NeuralNetwork import NeuralNetwork, Layer\n",
    "from src.function import IdentityFunction, SigmoideFunction\n",
    "from src.load_ds import load_monks_1_train\n",
    "import numpy as np"
   ]
  },
  {
   "cell_type": "code",
   "execution_count": 3,
   "metadata": {},
   "outputs": [
    {
     "name": "stdout",
     "output_type": "stream",
     "text": [
      "Some rows...\n",
      "     0  1  2  3  4  5  6  7\n",
      "0 NaN  1  1  1  1  1  3  1\n",
      "1 NaN  1  1  1  1  1  3  2\n",
      "2 NaN  1  1  1  1  3  2  1\n",
      "3 NaN  1  1  1  1  3  3  2\n",
      "4 NaN  1  1  1  2  1  2  1\n",
      "5 NaN  1  1  1  2  1  2  2\n",
      "6 NaN  1  1  1  2  2  3  1\n",
      "7 NaN  1  1  1  2  2  4  1\n",
      "8 NaN  1  1  1  2  3  1  2\n",
      "9 NaN  1  1  2  1  1  1  2\n"
     ]
    }
   ],
   "source": [
    "# Loading data\n",
    "target_inputs, target_outputs = load_monks_1_train()\n",
    "\n"
   ]
  },
  {
   "cell_type": "code",
   "execution_count": 4,
   "metadata": {},
   "outputs": [],
   "source": [
    "# Monk has an input of 17 features (after one-hot encoding) and 1 output (0 or 1)\n",
    "# Generating model\n",
    "input_layer = Layer(num_neurons = 6, num_inputs = 17, activation_function = SigmoideFunction())\n",
    "hidden_layer = Layer(num_neurons = 10, num_inputs = 6, activation_function = SigmoideFunction())\n",
    "output_layer = Layer(num_neurons = 2, num_inputs = 10, activation_function = SigmoideFunction())\n",
    "\n",
    "neuralNetwork = NeuralNetwork([input_layer, hidden_layer, output_layer])\n"
   ]
  },
  {
   "cell_type": "code",
   "execution_count": 5,
   "metadata": {},
   "outputs": [
    {
     "ename": "NameError",
     "evalue": "name 'target_inputs' is not defined",
     "output_type": "error",
     "traceback": [
      "\u001b[0;31m---------------------------------------------------------------------------\u001b[0m",
      "\u001b[0;31mNameError\u001b[0m                                 Traceback (most recent call last)",
      "Cell \u001b[0;32mIn[5], line 3\u001b[0m\n\u001b[1;32m      1\u001b[0m \u001b[39m# Training\u001b[39;00m\n\u001b[0;32m----> 3\u001b[0m neuralNetwork\u001b[39m.\u001b[39mtrain(target_inputs, target_outputs, epochs \u001b[39m=\u001b[39m \u001b[39m500\u001b[39m, learning_rate \u001b[39m=\u001b[39m \u001b[39m0.01\u001b[39m, regularization_term\u001b[39m=\u001b[39m\u001b[39m0.01\u001b[39m, momentum_term\u001b[39m=\u001b[39m\u001b[39m0.5\u001b[39m)\n",
      "\u001b[0;31mNameError\u001b[0m: name 'target_inputs' is not defined"
     ]
    }
   ],
   "source": [
    "# Training\n",
    "\n",
    "neuralNetwork.train(target_inputs, target_outputs, epochs = 500, learning_rate = 0.01, regularization_term=0.01, momentum_term=0.5)"
   ]
  }
 ],
 "metadata": {
  "kernelspec": {
   "display_name": "Python 3",
   "language": "python",
   "name": "python3"
  },
  "language_info": {
   "codemirror_mode": {
    "name": "ipython",
    "version": 3
   },
   "file_extension": ".py",
   "mimetype": "text/x-python",
   "name": "python",
   "nbconvert_exporter": "python",
   "pygments_lexer": "ipython3",
   "version": "3.10.8"
  },
  "orig_nbformat": 4,
  "vscode": {
   "interpreter": {
    "hash": "e7370f93d1d0cde622a1f8e1c04877d8463912d04d973331ad4851f04de6915a"
   }
  }
 },
 "nbformat": 4,
 "nbformat_minor": 2
}
