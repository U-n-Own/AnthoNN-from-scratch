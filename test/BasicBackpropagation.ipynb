{
 "cells": [
  {
   "cell_type": "raw",
   "source": [
    "Confronta l'output del nostro modello con quello di keras\n",
    "- N.B. Non esegue il test per momentum_term != 0 e regularization_term != 0"
   ],
   "metadata": {
    "collapsed": false
   }
  },
  {
   "cell_type": "code",
   "execution_count": 1,
   "outputs": [],
   "source": [
    "import matplotlib.pyplot as plt\n",
    "import torch\n",
    "import torch.nn as nn\n",
    "\n",
    "import sys\n",
    "\n",
    "from src.neuralNetwork.error import SquaredError\n",
    "\n",
    "sys.path.append('../') #server per fare l'import di file in un'altra directory sullo stesso \"livello\"\n",
    "from src.neuralNetwork.NeuralNetwork import Layer, NeuralNetwork\n",
    "from src.neuralNetwork.function import IdentityFunction, ReLuFunction, SigmoidFunction, TanhFunction\n",
    "import keras.backend as K\n",
    "import numpy as np"
   ],
   "metadata": {
    "collapsed": false,
    "ExecuteTime": {
     "end_time": "2023-05-06T12:33:13.387419900Z",
     "start_time": "2023-05-06T12:33:07.525025100Z"
    }
   }
  },
  {
   "cell_type": "code",
   "execution_count": 2,
   "outputs": [],
   "source": [
    "X = torch.rand(100, 2)\n",
    "y = X*2\n",
    "learning_rate = 0.001\n",
    "momentum_term = 0\n",
    "regularization_term = 0\n",
    "\n",
    "epoch = 100"
   ],
   "metadata": {
    "collapsed": false,
    "ExecuteTime": {
     "end_time": "2023-05-06T12:33:13.403466100Z",
     "start_time": "2023-05-06T12:33:13.387419900Z"
    }
   }
  },
  {
   "cell_type": "raw",
   "source": [
    "Modello keras"
   ],
   "metadata": {
    "collapsed": false
   }
  },
  {
   "cell_type": "code",
   "execution_count": 3,
   "outputs": [],
   "source": [
    "from keras.layers import Dense\n",
    "from keras.optimizers import SGD\n",
    "from keras import Sequential, regularizers\n",
    "import keras\n",
    "\n",
    "# Definizione del modello sequenziale di Keras\n",
    "model = Sequential()\n",
    "\n",
    "# Aggiunta dei layer della rete neurale\n",
    "model.add(Dense(2, input_dim=2, activation='relu', kernel_regularizer=regularizers.l2(regularization_term)))\n",
    "model.add(Dense(3, activation='relu', kernel_regularizer=regularizers.l2(regularization_term)))\n",
    "model.add(Dense(2, activation='linear', kernel_regularizer=regularizers.l2(regularization_term)))\n",
    "model.add(Dense(2, activation='linear', kernel_regularizer=regularizers.l2(regularization_term)))\n",
    "\n",
    "sgd = SGD(learning_rate=learning_rate, momentum=momentum_term, nesterov=False)\n",
    "\n",
    "def custom_loss(target_output, output_nn):\n",
    "    error_vector = K.square(target_output - output_nn) / 2\n",
    "    error_total = K.sum(error_vector)\n",
    "    return error_total"
   ],
   "metadata": {
    "collapsed": false,
    "ExecuteTime": {
     "end_time": "2023-05-06T12:33:13.497235200Z",
     "start_time": "2023-05-06T12:33:13.403466100Z"
    }
   }
  },
  {
   "cell_type": "raw",
   "source": [
    "Modello nostro"
   ],
   "metadata": {
    "collapsed": false
   }
  },
  {
   "cell_type": "code",
   "execution_count": 4,
   "outputs": [],
   "source": [
    "layer1 = Layer(num_neurons=2, num_inputs=2, activation_function=ReLuFunction())\n",
    "layer2 = Layer(num_neurons=3, num_inputs=2, activation_function=ReLuFunction())\n",
    "layer3 = Layer(num_neurons=2, num_inputs=3, activation_function=IdentityFunction())\n",
    "layer4 = Layer(num_neurons=2, num_inputs=2, activation_function=IdentityFunction())\n",
    "\n",
    "layer1.weights = np.matrix(model.layers[0].get_weights()[0].T).copy()\n",
    "layer2.weights = np.matrix(model.layers[1].get_weights()[0].T).copy()\n",
    "layer3.weights = np.matrix(model.layers[2].get_weights()[0].T).copy()\n",
    "layer4.weights = np.matrix(model.layers[3].get_weights()[0].T).copy()\n",
    "\n",
    "layer1.biases = np.matrix(model.layers[0].get_weights()[1].T).copy()\n",
    "layer2.biases = np.matrix(model.layers[1].get_weights()[1].T).copy()\n",
    "layer3.biases = np.matrix(model.layers[2].get_weights()[1].T).copy()\n",
    "layer4.biases = np.matrix(model.layers[3].get_weights()[1].T).copy()\n",
    "\n",
    "neuralNetwork = NeuralNetwork([layer1, layer2, layer3, layer4])"
   ],
   "metadata": {
    "collapsed": false,
    "ExecuteTime": {
     "end_time": "2023-05-06T12:33:13.528485100Z",
     "start_time": "2023-05-06T12:33:13.497235200Z"
    }
   }
  },
  {
   "cell_type": "raw",
   "source": [
    "Compilazione del modello keras"
   ],
   "metadata": {
    "collapsed": false
   }
  },
  {
   "cell_type": "code",
   "execution_count": 209,
   "outputs": [
    {
     "name": "stdout",
     "output_type": "stream",
     "text": [
      "Epoch 1/100\n",
      "1/1 [==============================] - 1s 745ms/step - loss: 131.2594 - MSE: 1.3126\n",
      "Epoch 2/100\n",
      "1/1 [==============================] - 0s 16ms/step - loss: 97.7359 - MSE: 0.9774\n",
      "Epoch 3/100\n",
      "1/1 [==============================] - 0s 0s/step - loss: 77.4184 - MSE: 0.7742\n",
      "Epoch 4/100\n",
      "1/1 [==============================] - 0s 0s/step - loss: 63.7176 - MSE: 0.6372\n",
      "Epoch 5/100\n",
      "1/1 [==============================] - 0s 0s/step - loss: 54.0820 - MSE: 0.5408\n",
      "Epoch 6/100\n",
      "1/1 [==============================] - 0s 16ms/step - loss: 47.2412 - MSE: 0.4724\n",
      "Epoch 7/100\n",
      "1/1 [==============================] - 0s 16ms/step - loss: 42.4170 - MSE: 0.4242\n",
      "Epoch 8/100\n",
      "1/1 [==============================] - 0s 16ms/step - loss: 38.9796 - MSE: 0.3898\n",
      "Epoch 9/100\n",
      "1/1 [==============================] - 0s 0s/step - loss: 36.5226 - MSE: 0.3652\n",
      "Epoch 10/100\n",
      "1/1 [==============================] - 0s 0s/step - loss: 34.8000 - MSE: 0.3480\n",
      "Epoch 11/100\n",
      "1/1 [==============================] - 0s 16ms/step - loss: 33.5688 - MSE: 0.3357\n",
      "Epoch 12/100\n",
      "1/1 [==============================] - 0s 16ms/step - loss: 32.7131 - MSE: 0.3271\n",
      "Epoch 13/100\n",
      "1/1 [==============================] - 0s 16ms/step - loss: 32.1222 - MSE: 0.3212\n",
      "Epoch 14/100\n",
      "1/1 [==============================] - 0s 16ms/step - loss: 31.7233 - MSE: 0.3172\n",
      "Epoch 15/100\n",
      "1/1 [==============================] - 0s 0s/step - loss: 31.4454 - MSE: 0.3145\n",
      "Epoch 16/100\n",
      "1/1 [==============================] - 0s 0s/step - loss: 31.2438 - MSE: 0.3124\n",
      "Epoch 17/100\n",
      "1/1 [==============================] - 0s 16ms/step - loss: 31.1004 - MSE: 0.3110\n",
      "Epoch 18/100\n",
      "1/1 [==============================] - 0s 16ms/step - loss: 31.0078 - MSE: 0.3101\n",
      "Epoch 19/100\n",
      "1/1 [==============================] - 0s 16ms/step - loss: 30.9419 - MSE: 0.3094\n",
      "Epoch 20/100\n",
      "1/1 [==============================] - 0s 16ms/step - loss: 30.8949 - MSE: 0.3089\n",
      "Epoch 21/100\n",
      "1/1 [==============================] - 0s 0s/step - loss: 30.8617 - MSE: 0.3086\n",
      "Epoch 22/100\n",
      "1/1 [==============================] - 0s 0s/step - loss: 30.8384 - MSE: 0.3084\n",
      "Epoch 23/100\n",
      "1/1 [==============================] - 0s 16ms/step - loss: 30.8214 - MSE: 0.3082\n",
      "Epoch 24/100\n",
      "1/1 [==============================] - 0s 16ms/step - loss: 30.8088 - MSE: 0.3081\n",
      "Epoch 25/100\n",
      "1/1 [==============================] - 0s 16ms/step - loss: 30.7995 - MSE: 0.3080\n",
      "Epoch 26/100\n",
      "1/1 [==============================] - 0s 16ms/step - loss: 30.7923 - MSE: 0.3079\n",
      "Epoch 27/100\n",
      "1/1 [==============================] - 0s 0s/step - loss: 30.7876 - MSE: 0.3079\n",
      "Epoch 28/100\n",
      "1/1 [==============================] - 0s 0s/step - loss: 30.7844 - MSE: 0.3078\n",
      "Epoch 29/100\n",
      "1/1 [==============================] - 0s 0s/step - loss: 30.7825 - MSE: 0.3078\n",
      "Epoch 30/100\n",
      "1/1 [==============================] - 0s 16ms/step - loss: 30.7812 - MSE: 0.3078\n",
      "Epoch 31/100\n",
      "1/1 [==============================] - 0s 16ms/step - loss: 30.7803 - MSE: 0.3078\n",
      "Epoch 32/100\n",
      "1/1 [==============================] - 0s 16ms/step - loss: 30.7796 - MSE: 0.3078\n",
      "Epoch 33/100\n",
      "1/1 [==============================] - 0s 16ms/step - loss: 30.7791 - MSE: 0.3078\n",
      "Epoch 34/100\n",
      "1/1 [==============================] - 0s 16ms/step - loss: 30.7788 - MSE: 0.3078\n",
      "Epoch 35/100\n",
      "1/1 [==============================] - 0s 16ms/step - loss: 30.7785 - MSE: 0.3078\n",
      "Epoch 36/100\n",
      "1/1 [==============================] - 0s 16ms/step - loss: 30.7784 - MSE: 0.3078\n",
      "Epoch 37/100\n",
      "1/1 [==============================] - 0s 16ms/step - loss: 30.7783 - MSE: 0.3078\n",
      "Epoch 38/100\n",
      "1/1 [==============================] - 0s 16ms/step - loss: 30.7782 - MSE: 0.3078\n",
      "Epoch 39/100\n",
      "1/1 [==============================] - 0s 16ms/step - loss: 30.7781 - MSE: 0.3078\n",
      "Epoch 40/100\n",
      "1/1 [==============================] - 0s 16ms/step - loss: 30.7781 - MSE: 0.3078\n",
      "Epoch 41/100\n",
      "1/1 [==============================] - 0s 16ms/step - loss: 30.7780 - MSE: 0.3078\n",
      "Epoch 42/100\n",
      "1/1 [==============================] - 0s 16ms/step - loss: 30.7780 - MSE: 0.3078\n",
      "Epoch 43/100\n",
      "1/1 [==============================] - 0s 16ms/step - loss: 30.7780 - MSE: 0.3078\n",
      "Epoch 44/100\n",
      "1/1 [==============================] - 0s 16ms/step - loss: 30.7780 - MSE: 0.3078\n",
      "Epoch 45/100\n",
      "1/1 [==============================] - 0s 16ms/step - loss: 30.7780 - MSE: 0.3078\n",
      "Epoch 46/100\n",
      "1/1 [==============================] - 0s 16ms/step - loss: 30.7780 - MSE: 0.3078\n",
      "Epoch 47/100\n",
      "1/1 [==============================] - 0s 16ms/step - loss: 30.7780 - MSE: 0.3078\n",
      "Epoch 48/100\n",
      "1/1 [==============================] - 0s 16ms/step - loss: 30.7780 - MSE: 0.3078\n",
      "Epoch 49/100\n",
      "1/1 [==============================] - 0s 16ms/step - loss: 30.7780 - MSE: 0.3078\n",
      "Epoch 50/100\n",
      "1/1 [==============================] - 0s 16ms/step - loss: 30.7780 - MSE: 0.3078\n",
      "Epoch 51/100\n",
      "1/1 [==============================] - 0s 0s/step - loss: 30.7780 - MSE: 0.3078\n",
      "Epoch 52/100\n",
      "1/1 [==============================] - 0s 0s/step - loss: 30.7780 - MSE: 0.3078\n",
      "Epoch 53/100\n",
      "1/1 [==============================] - 0s 0s/step - loss: 30.7780 - MSE: 0.3078\n",
      "Epoch 54/100\n",
      "1/1 [==============================] - 0s 0s/step - loss: 30.7780 - MSE: 0.3078\n",
      "Epoch 55/100\n",
      "1/1 [==============================] - 0s 0s/step - loss: 30.7780 - MSE: 0.3078\n",
      "Epoch 56/100\n",
      "1/1 [==============================] - 0s 0s/step - loss: 30.7780 - MSE: 0.3078\n",
      "Epoch 57/100\n",
      "1/1 [==============================] - 0s 16ms/step - loss: 30.7780 - MSE: 0.3078\n",
      "Epoch 58/100\n",
      "1/1 [==============================] - 0s 16ms/step - loss: 30.7780 - MSE: 0.3078\n",
      "Epoch 59/100\n",
      "1/1 [==============================] - 0s 0s/step - loss: 30.7780 - MSE: 0.3078\n",
      "Epoch 60/100\n",
      "1/1 [==============================] - 0s 0s/step - loss: 30.7780 - MSE: 0.3078\n",
      "Epoch 61/100\n",
      "1/1 [==============================] - 0s 16ms/step - loss: 30.7780 - MSE: 0.3078\n",
      "Epoch 62/100\n",
      "1/1 [==============================] - 0s 16ms/step - loss: 30.7780 - MSE: 0.3078\n",
      "Epoch 63/100\n",
      "1/1 [==============================] - 0s 0s/step - loss: 30.7780 - MSE: 0.3078\n",
      "Epoch 64/100\n",
      "1/1 [==============================] - 0s 16ms/step - loss: 30.7780 - MSE: 0.3078\n",
      "Epoch 65/100\n",
      "1/1 [==============================] - 0s 16ms/step - loss: 30.7780 - MSE: 0.3078\n",
      "Epoch 66/100\n",
      "1/1 [==============================] - 0s 16ms/step - loss: 30.7780 - MSE: 0.3078\n",
      "Epoch 67/100\n",
      "1/1 [==============================] - 0s 0s/step - loss: 30.7780 - MSE: 0.3078\n",
      "Epoch 68/100\n",
      "1/1 [==============================] - 0s 0s/step - loss: 30.7780 - MSE: 0.3078\n",
      "Epoch 69/100\n",
      "1/1 [==============================] - 0s 16ms/step - loss: 30.7780 - MSE: 0.3078\n",
      "Epoch 70/100\n",
      "1/1 [==============================] - 0s 0s/step - loss: 30.7780 - MSE: 0.3078\n",
      "Epoch 71/100\n",
      "1/1 [==============================] - 0s 0s/step - loss: 30.7780 - MSE: 0.3078\n",
      "Epoch 72/100\n",
      "1/1 [==============================] - 0s 16ms/step - loss: 30.7780 - MSE: 0.3078\n",
      "Epoch 73/100\n",
      "1/1 [==============================] - 0s 16ms/step - loss: 30.7780 - MSE: 0.3078\n",
      "Epoch 74/100\n",
      "1/1 [==============================] - 0s 0s/step - loss: 30.7780 - MSE: 0.3078\n",
      "Epoch 75/100\n",
      "1/1 [==============================] - 0s 16ms/step - loss: 30.7780 - MSE: 0.3078\n",
      "Epoch 76/100\n",
      "1/1 [==============================] - 0s 16ms/step - loss: 30.7780 - MSE: 0.3078\n",
      "Epoch 77/100\n",
      "1/1 [==============================] - 0s 0s/step - loss: 30.7780 - MSE: 0.3078\n",
      "Epoch 78/100\n",
      "1/1 [==============================] - 0s 0s/step - loss: 30.7780 - MSE: 0.3078\n",
      "Epoch 79/100\n",
      "1/1 [==============================] - 0s 16ms/step - loss: 30.7780 - MSE: 0.3078\n",
      "Epoch 80/100\n",
      "1/1 [==============================] - 0s 0s/step - loss: 30.7780 - MSE: 0.3078\n",
      "Epoch 81/100\n",
      "1/1 [==============================] - 0s 0s/step - loss: 30.7780 - MSE: 0.3078\n",
      "Epoch 82/100\n",
      "1/1 [==============================] - 0s 16ms/step - loss: 30.7780 - MSE: 0.3078\n",
      "Epoch 83/100\n",
      "1/1 [==============================] - 0s 16ms/step - loss: 30.7780 - MSE: 0.3078\n",
      "Epoch 84/100\n",
      "1/1 [==============================] - 0s 0s/step - loss: 30.7780 - MSE: 0.3078\n",
      "Epoch 85/100\n",
      "1/1 [==============================] - 0s 16ms/step - loss: 30.7780 - MSE: 0.3078\n",
      "Epoch 86/100\n",
      "1/1 [==============================] - 0s 16ms/step - loss: 30.7780 - MSE: 0.3078\n",
      "Epoch 87/100\n",
      "1/1 [==============================] - 0s 0s/step - loss: 30.7780 - MSE: 0.3078\n",
      "Epoch 88/100\n",
      "1/1 [==============================] - 0s 0s/step - loss: 30.7780 - MSE: 0.3078\n",
      "Epoch 89/100\n",
      "1/1 [==============================] - 0s 16ms/step - loss: 30.7780 - MSE: 0.3078\n",
      "Epoch 90/100\n",
      "1/1 [==============================] - 0s 0s/step - loss: 30.7780 - MSE: 0.3078\n",
      "Epoch 91/100\n",
      "1/1 [==============================] - 0s 0s/step - loss: 30.7780 - MSE: 0.3078\n",
      "Epoch 92/100\n",
      "1/1 [==============================] - 0s 16ms/step - loss: 30.7780 - MSE: 0.3078\n",
      "Epoch 93/100\n",
      "1/1 [==============================] - 0s 0s/step - loss: 30.7780 - MSE: 0.3078\n",
      "Epoch 94/100\n",
      "1/1 [==============================] - 0s 0s/step - loss: 30.7780 - MSE: 0.3078\n",
      "Epoch 95/100\n",
      "1/1 [==============================] - 0s 16ms/step - loss: 30.7780 - MSE: 0.3078\n",
      "Epoch 96/100\n",
      "1/1 [==============================] - 0s 0s/step - loss: 30.7780 - MSE: 0.3078\n",
      "Epoch 97/100\n",
      "1/1 [==============================] - 0s 16ms/step - loss: 30.7780 - MSE: 0.3078\n",
      "Epoch 98/100\n",
      "1/1 [==============================] - 0s 17ms/step - loss: 30.7780 - MSE: 0.3078\n",
      "Epoch 99/100\n",
      "1/1 [==============================] - 0s 1ms/step - loss: 30.7780 - MSE: 0.3078\n",
      "Epoch 100/100\n",
      "1/1 [==============================] - 0s 0s/step - loss: 30.7780 - MSE: 0.3078\n"
     ]
    }
   ],
   "source": [
    "model.compile(loss=custom_loss, optimizer=sgd, metrics=['MSE'])\n",
    "\n",
    "target_inputs =  np.matrix(X.numpy()).copy()\n",
    "target_outputs = np.matrix(y.numpy()).copy()\n",
    "history = model.fit(target_inputs, target_outputs, batch_size=len(target_inputs), epochs=epoch, shuffle=False)"
   ],
   "metadata": {
    "collapsed": false,
    "ExecuteTime": {
     "end_time": "2023-05-06T10:52:22.684799900Z",
     "start_time": "2023-05-06T10:52:20.574859900Z"
    }
   }
  },
  {
   "cell_type": "raw",
   "source": [
    "Compilazione modello nostro"
   ],
   "metadata": {
    "collapsed": false
   }
  },
  {
   "cell_type": "code",
   "execution_count": 210,
   "outputs": [],
   "source": [
    "target_inputs =  np.matrix(X.numpy()).copy()\n",
    "target_outputs = np.matrix(y.numpy()).copy()\n",
    "error_history, _ = neuralNetwork.train(target_inputs, target_outputs, learning_rate=learning_rate,\n",
    "                                    regularization_term=regularization_term, momentum_term = momentum_term, epochs=epoch)"
   ],
   "metadata": {
    "collapsed": false,
    "ExecuteTime": {
     "end_time": "2023-05-06T10:52:27.656669700Z",
     "start_time": "2023-05-06T10:52:22.684799900Z"
    }
   }
  },
  {
   "cell_type": "raw",
   "source": [
    "Confronto modelli:\n",
    "(Le piccole differenze sono dovute alla diversa rappresentazione dei dati)"
   ],
   "metadata": {
    "collapsed": false
   }
  },
  {
   "cell_type": "code",
   "execution_count": 211,
   "outputs": [
    {
     "data": {
      "text/plain": "<matplotlib.legend.Legend at 0x225b0fd3220>"
     },
     "execution_count": 211,
     "metadata": {},
     "output_type": "execute_result"
    },
    {
     "data": {
      "text/plain": "<Figure size 640x480 with 1 Axes>",
      "image/png": "[encoded data removed]"
     },
     "metadata": {},
     "output_type": "display_data"
    }
   ],
   "source": [
    "plt.plot(error_history[0:epoch-1], label='modello nostro')\n",
    "plt.plot(history.history[\"MSE\"][1:], label='modello keras')\n",
    "plt.legend()"
   ],
   "metadata": {
    "collapsed": false,
    "ExecuteTime": {
     "end_time": "2023-05-06T10:52:27.853555500Z",
     "start_time": "2023-05-06T10:52:27.616999700Z"
    }
   }
  },
  {
   "cell_type": "code",
   "execution_count": 212,
   "outputs": [
    {
     "name": "stdout",
     "output_type": "stream",
     "text": [
      "Test passato\n"
     ]
    }
   ],
   "source": [
    "diff = np.array(error_history[0:epoch-1]) - np.array(history.history[\"MSE\"][1:])\n",
    "if np.all(np.abs(diff) < 0.0001):\n",
    "    print(\"Test passato\")\n",
    "else:\n",
    "    print(\"Test fallito\")"
   ],
   "metadata": {
    "collapsed": false,
    "ExecuteTime": {
     "end_time": "2023-05-06T10:52:27.869205100Z",
     "start_time": "2023-05-06T10:52:27.861803900Z"
    }
   }
  }
 ],
 "metadata": {
  "kernelspec": {
   "display_name": "Python 3",
   "language": "python",
   "name": "python3"
  },
  "language_info": {
   "codemirror_mode": {
    "name": "ipython",
    "version": 2
   },
   "file_extension": ".py",
   "mimetype": "text/x-python",
   "name": "python",
   "nbconvert_exporter": "python",
   "pygments_lexer": "ipython2",
   "version": "2.7.6"
  }
 },
 "nbformat": 4,
 "nbformat_minor": 0
}
