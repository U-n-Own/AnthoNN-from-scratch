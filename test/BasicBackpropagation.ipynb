{
 "cells": [
  {
   "cell_type": "markdown",
   "source": [
    "## Comparazione modello fatto per il progetto e il modello di pyTorch"
   ],
   "metadata": {
    "collapsed": false
   }
  },
  {
   "cell_type": "code",
   "execution_count": 19,
   "outputs": [],
   "source": [
    "import matplotlib.pyplot as plt\n",
    "import torch\n",
    "import torch.nn as nn\n",
    "\n",
    "import sys\n",
    "sys.path.append('../') #server per fare l'import di file in un'altra directory sullo stesso \"livello\"\n",
    "from src.NeuralNetwork import Layer, NeuralNetwork\n",
    "from src.function import IdentityFunction"
   ],
   "metadata": {
    "collapsed": false
   }
  },
  {
   "cell_type": "code",
   "execution_count": 20,
   "outputs": [],
   "source": [
    "X = torch.rand(10, 2)\n",
    "y = X*2\n",
    "learning_rate = 0.01\n",
    "momentum_term = 0\n",
    "regularization_term = 0.01\n",
    "\n",
    "epoch = 200"
   ],
   "metadata": {
    "collapsed": false
   }
  },
  {
   "cell_type": "code",
   "execution_count": 21,
   "outputs": [],
   "source": [
    "# Define the model\n",
    "class Net(nn.Module):\n",
    "    def __init__(self):\n",
    "        super(Net, self).__init__()\n",
    "        self.fc1 = nn.Linear(2, 2, bias=False)\n",
    "        self.fc2 = nn.Linear(2, 3, bias=False)\n",
    "        self.fc3 = nn.Linear(3, 2, bias=False)\n",
    "        self.fc4 = nn.Linear(2, 2, bias=False)\n",
    "\n",
    "    def forward(self, x):\n",
    "        x = self.fc1(x)\n",
    "        x = self.fc2(x)\n",
    "        x = self.fc3(x)\n",
    "        x = self.fc4(x)\n",
    "        return x\n",
    "\n",
    "# funzione loss usata nel corso\n",
    "class CustomLoss(nn.Module):\n",
    "    def __init__(self):\n",
    "        super(CustomLoss, self).__init__()\n",
    "\n",
    "    def forward(self, target_output, output_nn):\n",
    "        error_vector = (target_output - output_nn)**2 / 2\n",
    "        error_total = error_vector.sum()\n",
    "        return error_total\n",
    "\n",
    "# funzione loss usata nel corso\n",
    "class CustomError(nn.Module):\n",
    "    def __init__(self):\n",
    "        super(CustomError, self).__init__()\n",
    "\n",
    "    def forward(self, target_output, output_nn):\n",
    "        error_vector = (target_output - output_nn)**2\n",
    "        error_total = error_vector.sum()\n",
    "        return error_total\n",
    "\n",
    "model = Net()\n"
   ],
   "metadata": {
    "collapsed": false
   }
  },
  {
   "cell_type": "raw",
   "source": [
    "Definizione modello personale"
   ],
   "metadata": {
    "collapsed": false
   }
  },
  {
   "cell_type": "code",
   "execution_count": 22,
   "outputs": [],
   "source": [
    "import numpy as np\n",
    "\n",
    "layer1 = Layer(num_neurons=2, num_inputs=2, activation_function=IdentityFunction())\n",
    "layer2 = Layer(num_neurons=3, num_inputs=2, activation_function=IdentityFunction())\n",
    "layer3 = Layer(num_neurons=2, num_inputs=3, activation_function=IdentityFunction())\n",
    "layer4 = Layer(num_neurons=2, num_inputs=2, activation_function=IdentityFunction())\n",
    "\n",
    "layer1.weights = np.matrix(model.fc1.weight.detach().numpy()).copy()\n",
    "layer2.weights = np.matrix(model.fc2.weight.detach().numpy()).copy()\n",
    "layer3.weights = np.matrix(model.fc3.weight.detach().numpy()).copy()\n",
    "layer4.weights = np.matrix(model.fc4.weight.detach().numpy()).copy()\n",
    "\n",
    "neuralNetwork = NeuralNetwork([layer1, layer2, layer3, layer4])\n",
    "target_inputs =  np.matrix(X.numpy()).copy()\n",
    "target_outputs = np.matrix(y.numpy()).copy()"
   ],
   "metadata": {
    "collapsed": false
   }
  },
  {
   "cell_type": "code",
   "execution_count": 23,
   "outputs": [
    {
     "data": {
      "text/plain": "matrix([[ 0.11414043, -0.03290372],\n        [ 0.07368932, -0.02075974],\n        [ 0.04241682, -0.01262942],\n        [ 0.11039996, -0.03231976],\n        [ 0.11828432, -0.03373596],\n        [ 0.0833695 , -0.0241223 ],\n        [ 0.01406215, -0.00189049],\n        [ 0.04991046, -0.01469035],\n        [ 0.03424016, -0.00836127],\n        [ 0.03106779, -0.00900002]])"
     },
     "execution_count": 23,
     "metadata": {},
     "output_type": "execute_result"
    }
   ],
   "source": [
    "neuralNetwork.predict(inputs=target_inputs)"
   ],
   "metadata": {
    "collapsed": false
   }
  },
  {
   "cell_type": "code",
   "execution_count": 24,
   "outputs": [],
   "source": [
    "error_history = neuralNetwork.train(target_inputs, target_outputs, learning_rate=learning_rate,\n",
    "                                    regularization_term=regularization_term, momentum_term = momentum_term, epochs=epoch)"
   ],
   "metadata": {
    "collapsed": false
   }
  },
  {
   "cell_type": "raw",
   "source": [
    "Training modello pytorch"
   ],
   "metadata": {
    "collapsed": false
   }
  },
  {
   "cell_type": "code",
   "execution_count": 25,
   "outputs": [],
   "source": [
    "error_history_torch = []\n",
    "for _ in range(epoch):\n",
    "    # Define the loss function\n",
    "    loss_fn = CustomLoss()\n",
    "    error_fn = CustomError()\n",
    "\n",
    "    y_pred = model(X)\n",
    "    loss = loss_fn(target_output = y, output_nn = y_pred)\n",
    "    error = error_fn(target_output = y, output_nn = y_pred)\n",
    "    error_history_torch.append(error.item())\n",
    "\n",
    "    # l2_reg = 0\n",
    "    # for param in model.parameters():\n",
    "    #     l2_reg += (param ** 2).sum()\n",
    "    #\n",
    "    # loss = loss + regularization_term*l2_reg\n",
    "\n",
    "    loss.backward()\n",
    "\n",
    "    # Manually update the weights\n",
    "    with torch.no_grad():\n",
    "        for param in model.parameters():\n",
    "            param += -(learning_rate * param.grad + 2*regularization_term*param)\n",
    "\n",
    "    model.zero_grad()"
   ],
   "metadata": {
    "collapsed": false
   }
  },
  {
   "cell_type": "code",
   "execution_count": 26,
   "outputs": [
    {
     "data": {
      "text/plain": "<matplotlib.legend.Legend at 0x2068c8cd520>"
     },
     "execution_count": 26,
     "metadata": {},
     "output_type": "execute_result"
    },
    {
     "data": {
      "text/plain": "<Figure size 640x480 with 1 Axes>",
      "image/png": "[encoded data removed]"
     },
     "metadata": {},
     "output_type": "display_data"
    }
   ],
   "source": [
    "plt.plot(error_history, label='modello nostro')\n",
    "plt.plot(error_history_torch, label='modello pytorch')\n",
    "plt.legend()"
   ],
   "metadata": {
    "collapsed": false
   }
  },
  {
   "cell_type": "code",
   "execution_count": 27,
   "outputs": [],
   "source": [
    "tolerance = 0.001\n",
    "# Ci sono delle differenze di approssimazione tra i due modelli\n",
    "assert np.all(np.abs(np.matrix(layer1.weights) - np.matrix(model.fc1.weight.detach().numpy())) < tolerance)\n",
    "assert np.all(np.abs(np.matrix(layer2.weights) - np.matrix(model.fc2.weight.detach().numpy())) < tolerance)\n",
    "assert np.all(np.abs(np.matrix(layer3.weights) - np.matrix(model.fc3.weight.detach().numpy())) < tolerance)\n",
    "assert np.all(np.abs(np.matrix(layer4.weights) - np.matrix(model.fc4.weight.detach().numpy())) < tolerance)"
   ],
   "metadata": {
    "collapsed": false
   }
  }
 ],
 "metadata": {
  "kernelspec": {
   "display_name": "Python 3",
   "language": "python",
   "name": "python3"
  },
  "language_info": {
   "codemirror_mode": {
    "name": "ipython",
    "version": 2
   },
   "file_extension": ".py",
   "mimetype": "text/x-python",
   "name": "python",
   "nbconvert_exporter": "python",
   "pygments_lexer": "ipython2",
   "version": "2.7.6"
  }
 },
 "nbformat": 4,
 "nbformat_minor": 0
}
