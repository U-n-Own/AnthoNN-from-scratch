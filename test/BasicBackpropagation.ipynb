{
 "cells": [
  {
   "cell_type": "raw",
   "source": [
    "Confronta l'output del nostro modello con quello di keras\n",
    "- N.B. Non esegue il test per momentum_term != 0 e regularization_term != 0"
   ],
   "metadata": {
    "collapsed": false
   }
  },
  {
   "cell_type": "code",
   "execution_count": 113,
   "outputs": [],
   "source": [
    "import matplotlib.pyplot as plt\n",
    "import torch\n",
    "import torch.nn as nn\n",
    "\n",
    "import sys\n",
    "\n",
    "\n",
    "sys.path.append('../') #server per fare l'import di file in un'altra directory sullo stesso \"livello\"\n",
    "from src.neuralNetwork.NeuralNetwork import Layer, NeuralNetwork\n",
    "from src.neuralNetwork.function import IdentityFunction, ReLuFunction, SigmoidFunction, TanhFunction\n",
    "from src.neuralNetwork.error import SquaredError, MeanAbsolutePercentageError\n",
    "import keras.backend as K\n",
    "import numpy as np"
   ],
   "metadata": {
    "collapsed": false,
    "ExecuteTime": {
     "end_time": "2023-05-18T08:49:01.528350200Z",
     "start_time": "2023-05-18T08:49:01.491845100Z"
    }
   }
  },
  {
   "cell_type": "code",
   "execution_count": 114,
   "outputs": [],
   "source": [
    "X = torch.rand(1000, 2)\n",
    "y = X*2\n",
    "learning_rate = 0.9\n",
    "momentum_term = 0.5\n",
    "regularization_term = 0\n",
    "\n",
    "epoch = 100"
   ],
   "metadata": {
    "collapsed": false,
    "ExecuteTime": {
     "end_time": "2023-05-18T08:49:01.653252800Z",
     "start_time": "2023-05-18T08:49:01.498482700Z"
    }
   }
  },
  {
   "cell_type": "raw",
   "source": [
    "Modello keras"
   ],
   "metadata": {
    "collapsed": false
   }
  },
  {
   "cell_type": "code",
   "execution_count": 115,
   "outputs": [],
   "source": [
    "from keras.layers import Dense\n",
    "from keras.optimizers import SGD\n",
    "from keras import Sequential, regularizers\n",
    "import keras\n",
    "\n",
    "# Definizione del modello sequenziale di Keras\n",
    "model = Sequential()\n",
    "\n",
    "# Aggiunta dei layer della rete neurale\n",
    "model.add(Dense(10, input_dim=2, activation='relu', kernel_regularizer=regularizers.l2(regularization_term)))\n",
    "model.add(Dense(2, activation='linear', kernel_regularizer=regularizers.l2(regularization_term)))\n",
    "\n",
    "sgd = SGD(learning_rate=learning_rate, momentum=momentum_term, nesterov=False)"
   ],
   "metadata": {
    "collapsed": false,
    "ExecuteTime": {
     "end_time": "2023-05-18T08:49:01.658356100Z",
     "start_time": "2023-05-18T08:49:01.518469900Z"
    }
   }
  },
  {
   "cell_type": "raw",
   "source": [
    "Modello nostro"
   ],
   "metadata": {
    "collapsed": false
   },
   "outputs": []
  },
  {
   "cell_type": "code",
   "execution_count": 116,
   "outputs": [],
   "source": [
    "layer1 = Layer(num_neurons=10, num_inputs=2, activation_function=ReLuFunction())\n",
    "layer2 = Layer(num_neurons=2, num_inputs=10, activation_function=IdentityFunction())\n",
    "\n",
    "layer1.weights = np.matrix(model.layers[0].get_weights()[0].T).copy()\n",
    "layer2.weights = np.matrix(model.layers[1].get_weights()[0].T).copy()\n",
    "\n",
    "layer1.biases = np.matrix(model.layers[0].get_weights()[1].T).copy()\n",
    "layer2.biases = np.matrix(model.layers[1].get_weights()[1].T).copy()\n",
    "\n",
    "neuralNetwork = NeuralNetwork([layer1, layer2])"
   ],
   "metadata": {
    "collapsed": false,
    "ExecuteTime": {
     "end_time": "2023-05-18T08:49:01.658356100Z",
     "start_time": "2023-05-18T08:49:01.608118400Z"
    }
   }
  },
  {
   "cell_type": "raw",
   "source": [
    "Compilazione del modello keras"
   ],
   "metadata": {
    "collapsed": false
   },
   "outputs": []
  },
  {
   "cell_type": "code",
   "execution_count": 117,
   "outputs": [
    {
     "name": "stdout",
     "output_type": "stream",
     "text": [
      "Epoch 1/100\n",
      "1/1 [==============================] - 1s 701ms/step - loss: 2.1266 - MSE: 2.1266\n",
      "Epoch 2/100\n",
      "1/1 [==============================] - 0s 16ms/step - loss: 0.7395 - MSE: 0.7395\n",
      "Epoch 3/100\n",
      "1/1 [==============================] - 0s 6ms/step - loss: 0.3682 - MSE: 0.3682\n",
      "Epoch 4/100\n",
      "1/1 [==============================] - 0s 15ms/step - loss: 0.2694 - MSE: 0.2694\n",
      "Epoch 5/100\n",
      "1/1 [==============================] - 0s 16ms/step - loss: 0.2641 - MSE: 0.2641\n",
      "Epoch 6/100\n",
      "1/1 [==============================] - 0s 16ms/step - loss: 0.2248 - MSE: 0.2248\n",
      "Epoch 7/100\n",
      "1/1 [==============================] - 0s 0s/step - loss: 0.2088 - MSE: 0.2088\n",
      "Epoch 8/100\n",
      "1/1 [==============================] - 0s 11ms/step - loss: 0.1980 - MSE: 0.1980\n",
      "Epoch 9/100\n",
      "1/1 [==============================] - 0s 16ms/step - loss: 0.1854 - MSE: 0.1854\n",
      "Epoch 10/100\n",
      "1/1 [==============================] - 0s 16ms/step - loss: 0.1796 - MSE: 0.1796\n",
      "Epoch 11/100\n",
      "1/1 [==============================] - 0s 0s/step - loss: 0.1766 - MSE: 0.1766\n",
      "Epoch 12/100\n",
      "1/1 [==============================] - 0s 16ms/step - loss: 0.1772 - MSE: 0.1772\n",
      "Epoch 13/100\n",
      "1/1 [==============================] - 0s 16ms/step - loss: 0.1824 - MSE: 0.1824\n",
      "Epoch 14/100\n",
      "1/1 [==============================] - 0s 16ms/step - loss: 0.2044 - MSE: 0.2044\n",
      "Epoch 15/100\n",
      "1/1 [==============================] - 0s 16ms/step - loss: 0.2538 - MSE: 0.2538\n",
      "Epoch 16/100\n",
      "1/1 [==============================] - 0s 16ms/step - loss: 0.4511 - MSE: 0.4511\n",
      "Epoch 17/100\n",
      "1/1 [==============================] - 0s 18ms/step - loss: 0.2861 - MSE: 0.2861\n",
      "Epoch 18/100\n",
      "1/1 [==============================] - 0s 0s/step - loss: 0.2682 - MSE: 0.2682\n",
      "Epoch 19/100\n",
      "1/1 [==============================] - 0s 0s/step - loss: 0.1857 - MSE: 0.1857\n",
      "Epoch 20/100\n",
      "1/1 [==============================] - 0s 16ms/step - loss: 0.2003 - MSE: 0.2003\n",
      "Epoch 21/100\n",
      "1/1 [==============================] - 0s 16ms/step - loss: 0.2021 - MSE: 0.2021\n",
      "Epoch 22/100\n",
      "1/1 [==============================] - 0s 16ms/step - loss: 0.1804 - MSE: 0.1804\n",
      "Epoch 23/100\n",
      "1/1 [==============================] - 0s 0s/step - loss: 0.1775 - MSE: 0.1775\n",
      "Epoch 24/100\n",
      "1/1 [==============================] - 0s 0s/step - loss: 0.1783 - MSE: 0.1783\n",
      "Epoch 25/100\n",
      "1/1 [==============================] - 0s 8ms/step - loss: 0.1764 - MSE: 0.1764\n",
      "Epoch 26/100\n",
      "1/1 [==============================] - 0s 0s/step - loss: 0.1747 - MSE: 0.1747\n",
      "Epoch 27/100\n",
      "1/1 [==============================] - 0s 16ms/step - loss: 0.1734 - MSE: 0.1734\n",
      "Epoch 28/100\n",
      "1/1 [==============================] - 0s 16ms/step - loss: 0.1726 - MSE: 0.1726\n",
      "Epoch 29/100\n",
      "1/1 [==============================] - 0s 16ms/step - loss: 0.1721 - MSE: 0.1721\n",
      "Epoch 30/100\n",
      "1/1 [==============================] - 0s 0s/step - loss: 0.1717 - MSE: 0.1717\n",
      "Epoch 31/100\n",
      "1/1 [==============================] - 0s 16ms/step - loss: 0.1715 - MSE: 0.1715\n",
      "Epoch 32/100\n",
      "1/1 [==============================] - 0s 16ms/step - loss: 0.1713 - MSE: 0.1713\n",
      "Epoch 33/100\n",
      "1/1 [==============================] - 0s 14ms/step - loss: 0.1712 - MSE: 0.1712\n",
      "Epoch 34/100\n",
      "1/1 [==============================] - 0s 0s/step - loss: 0.1712 - MSE: 0.1712\n",
      "Epoch 35/100\n",
      "1/1 [==============================] - 0s 0s/step - loss: 0.1713 - MSE: 0.1713\n",
      "Epoch 36/100\n",
      "1/1 [==============================] - 0s 16ms/step - loss: 0.1715 - MSE: 0.1715\n",
      "Epoch 37/100\n",
      "1/1 [==============================] - 0s 16ms/step - loss: 0.1719 - MSE: 0.1719\n",
      "Epoch 38/100\n",
      "1/1 [==============================] - 0s 0s/step - loss: 0.1730 - MSE: 0.1730\n",
      "Epoch 39/100\n",
      "1/1 [==============================] - 0s 0s/step - loss: 0.1744 - MSE: 0.1744\n",
      "Epoch 40/100\n",
      "1/1 [==============================] - 0s 16ms/step - loss: 0.1782 - MSE: 0.1782\n",
      "Epoch 41/100\n",
      "1/1 [==============================] - 0s 0s/step - loss: 0.1829 - MSE: 0.1829\n",
      "Epoch 42/100\n",
      "1/1 [==============================] - 0s 5ms/step - loss: 0.1967 - MSE: 0.1967\n",
      "Epoch 43/100\n",
      "1/1 [==============================] - 0s 12ms/step - loss: 0.2070 - MSE: 0.2070\n",
      "Epoch 44/100\n",
      "1/1 [==============================] - 0s 16ms/step - loss: 0.2475 - MSE: 0.2475\n",
      "Epoch 45/100\n",
      "1/1 [==============================] - 0s 16ms/step - loss: 0.2376 - MSE: 0.2376\n",
      "Epoch 46/100\n",
      "1/1 [==============================] - 0s 0s/step - loss: 0.2777 - MSE: 0.2777\n",
      "Epoch 47/100\n",
      "1/1 [==============================] - 0s 23ms/step - loss: 0.2119 - MSE: 0.2119\n",
      "Epoch 48/100\n",
      "1/1 [==============================] - 0s 14ms/step - loss: 0.1939 - MSE: 0.1939\n",
      "Epoch 49/100\n",
      "1/1 [==============================] - 0s 11ms/step - loss: 0.1768 - MSE: 0.1768\n",
      "Epoch 50/100\n",
      "1/1 [==============================] - 0s 9ms/step - loss: 0.1729 - MSE: 0.1729\n",
      "Epoch 51/100\n",
      "1/1 [==============================] - 0s 16ms/step - loss: 0.1728 - MSE: 0.1728\n",
      "Epoch 52/100\n",
      "1/1 [==============================] - 0s 16ms/step - loss: 0.1729 - MSE: 0.1729\n",
      "Epoch 53/100\n",
      "1/1 [==============================] - 0s 0s/step - loss: 0.1727 - MSE: 0.1727\n",
      "Epoch 54/100\n",
      "1/1 [==============================] - 0s 0s/step - loss: 0.1723 - MSE: 0.1723\n",
      "Epoch 55/100\n",
      "1/1 [==============================] - 0s 16ms/step - loss: 0.1720 - MSE: 0.1720\n",
      "Epoch 56/100\n",
      "1/1 [==============================] - 0s 0s/step - loss: 0.1718 - MSE: 0.1718\n",
      "Epoch 57/100\n",
      "1/1 [==============================] - 0s 9ms/step - loss: 0.1717 - MSE: 0.1717\n",
      "Epoch 58/100\n",
      "1/1 [==============================] - 0s 8ms/step - loss: 0.1716 - MSE: 0.1716\n",
      "Epoch 59/100\n",
      "1/1 [==============================] - 0s 0s/step - loss: 0.1717 - MSE: 0.1717\n",
      "Epoch 60/100\n",
      "1/1 [==============================] - 0s 0s/step - loss: 0.1718 - MSE: 0.1718\n",
      "Epoch 61/100\n",
      "1/1 [==============================] - 0s 16ms/step - loss: 0.1723 - MSE: 0.1723\n",
      "Epoch 62/100\n",
      "1/1 [==============================] - 0s 0s/step - loss: 0.1728 - MSE: 0.1728\n",
      "Epoch 63/100\n",
      "1/1 [==============================] - 0s 0s/step - loss: 0.1742 - MSE: 0.1742\n",
      "Epoch 64/100\n",
      "1/1 [==============================] - 0s 16ms/step - loss: 0.1755 - MSE: 0.1755\n",
      "Epoch 65/100\n",
      "1/1 [==============================] - 0s 0s/step - loss: 0.1792 - MSE: 0.1792\n",
      "Epoch 66/100\n",
      "1/1 [==============================] - 0s 16ms/step - loss: 0.1823 - MSE: 0.1823\n",
      "Epoch 67/100\n",
      "1/1 [==============================] - 0s 0s/step - loss: 0.1920 - MSE: 0.1920\n",
      "Epoch 68/100\n",
      "1/1 [==============================] - 0s 2ms/step - loss: 0.1967 - MSE: 0.1967\n",
      "Epoch 69/100\n",
      "1/1 [==============================] - 0s 0s/step - loss: 0.2183 - MSE: 0.2183\n",
      "Epoch 70/100\n",
      "1/1 [==============================] - 0s 0s/step - loss: 0.2143 - MSE: 0.2143\n",
      "Epoch 71/100\n",
      "1/1 [==============================] - 0s 16ms/step - loss: 0.2386 - MSE: 0.2386\n",
      "Epoch 72/100\n",
      "1/1 [==============================] - 0s 0s/step - loss: 0.2097 - MSE: 0.2097\n",
      "Epoch 73/100\n",
      "1/1 [==============================] - 0s 16ms/step - loss: 0.2082 - MSE: 0.2082\n",
      "Epoch 74/100\n",
      "1/1 [==============================] - 0s 16ms/step - loss: 0.1858 - MSE: 0.1858\n",
      "Epoch 75/100\n",
      "1/1 [==============================] - 0s 0s/step - loss: 0.1780 - MSE: 0.1780\n",
      "Epoch 76/100\n",
      "1/1 [==============================] - 0s 16ms/step - loss: 0.1731 - MSE: 0.1731\n",
      "Epoch 77/100\n",
      "1/1 [==============================] - 0s 16ms/step - loss: 0.1716 - MSE: 0.1716\n",
      "Epoch 78/100\n",
      "1/1 [==============================] - 0s 5ms/step - loss: 0.1711 - MSE: 0.1711\n",
      "Epoch 79/100\n",
      "1/1 [==============================] - 0s 11ms/step - loss: 0.1710 - MSE: 0.1710\n",
      "Epoch 80/100\n",
      "1/1 [==============================] - 0s 16ms/step - loss: 0.1709 - MSE: 0.1709\n",
      "Epoch 81/100\n",
      "1/1 [==============================] - 0s 0s/step - loss: 0.1708 - MSE: 0.1708\n",
      "Epoch 82/100\n",
      "1/1 [==============================] - 0s 0s/step - loss: 0.1707 - MSE: 0.1707\n",
      "Epoch 83/100\n",
      "1/1 [==============================] - 0s 15ms/step - loss: 0.1706 - MSE: 0.1706\n",
      "Epoch 84/100\n",
      "1/1 [==============================] - 0s 24ms/step - loss: 0.1706 - MSE: 0.1706\n",
      "Epoch 85/100\n",
      "1/1 [==============================] - 0s 8ms/step - loss: 0.1705 - MSE: 0.1705\n",
      "Epoch 86/100\n",
      "1/1 [==============================] - 0s 10ms/step - loss: 0.1705 - MSE: 0.1705\n",
      "Epoch 87/100\n",
      "1/1 [==============================] - 0s 14ms/step - loss: 0.1706 - MSE: 0.1706\n",
      "Epoch 88/100\n",
      "1/1 [==============================] - 0s 16ms/step - loss: 0.1708 - MSE: 0.1708\n",
      "Epoch 89/100\n",
      "1/1 [==============================] - 0s 0s/step - loss: 0.1710 - MSE: 0.1710\n",
      "Epoch 90/100\n",
      "1/1 [==============================] - 0s 0s/step - loss: 0.1716 - MSE: 0.1716\n",
      "Epoch 91/100\n",
      "1/1 [==============================] - 0s 16ms/step - loss: 0.1724 - MSE: 0.1724\n",
      "Epoch 92/100\n",
      "1/1 [==============================] - 0s 0s/step - loss: 0.1742 - MSE: 0.1742\n",
      "Epoch 93/100\n",
      "1/1 [==============================] - 0s 16ms/step - loss: 0.1764 - MSE: 0.1764\n",
      "Epoch 94/100\n",
      "1/1 [==============================] - 0s 16ms/step - loss: 0.1823 - MSE: 0.1823\n",
      "Epoch 95/100\n",
      "1/1 [==============================] - 0s 9ms/step - loss: 0.1878 - MSE: 0.1878\n",
      "Epoch 96/100\n",
      "1/1 [==============================] - 0s 8ms/step - loss: 0.2054 - MSE: 0.2054\n",
      "Epoch 97/100\n",
      "1/1 [==============================] - 0s 8ms/step - loss: 0.2116 - MSE: 0.2116\n",
      "Epoch 98/100\n",
      "1/1 [==============================] - 0s 6ms/step - loss: 0.2480 - MSE: 0.2480\n",
      "Epoch 99/100\n",
      "1/1 [==============================] - 0s 10ms/step - loss: 0.2262 - MSE: 0.2262\n",
      "Epoch 100/100\n",
      "1/1 [==============================] - 0s 10ms/step - loss: 0.2436 - MSE: 0.2436\n"
     ]
    }
   ],
   "source": [
    "model.compile(loss='MSE', optimizer=sgd, metrics=['MSE'])\n",
    "\n",
    "target_inputs =  np.matrix(X.numpy()).copy()\n",
    "target_outputs = np.matrix(y.numpy()).copy()\n",
    "history = model.fit(target_inputs, target_outputs, batch_size=len(target_inputs), epochs=epoch, shuffle=False)"
   ],
   "metadata": {
    "collapsed": false,
    "ExecuteTime": {
     "end_time": "2023-05-18T08:49:03.700284800Z",
     "start_time": "2023-05-18T08:49:01.648218400Z"
    }
   }
  },
  {
   "cell_type": "raw",
   "source": [
    "Compilazione modello nostro"
   ],
   "metadata": {
    "collapsed": false
   },
   "outputs": []
  },
  {
   "cell_type": "code",
   "execution_count": 118,
   "outputs": [
    {
     "name": "stdout",
     "output_type": "stream",
     "text": [
      "Epoch 0/100: Training error: 0.7395406840837077\n",
      "Epoch 1/100: Training error: 0.4356961445879363\n",
      "Epoch 2/100: Training error: 0.25183432408167605\n",
      "Epoch 3/100: Training error: 0.23523080672003296\n",
      "Epoch 4/100: Training error: 0.21920339561499924\n",
      "Epoch 5/100: Training error: 0.20761069588914438\n",
      "Epoch 6/100: Training error: 0.19786965073547316\n",
      "Epoch 7/100: Training error: 0.19070516583155994\n",
      "Epoch 8/100: Training error: 0.18503764882159537\n",
      "Epoch 9/100: Training error: 0.18133843643948627\n",
      "Epoch 10/100: Training error: 0.17843861249159562\n",
      "Epoch 11/100: Training error: 0.17739092358002675\n",
      "Epoch 12/100: Training error: 0.17763684711433209\n",
      "Epoch 13/100: Training error: 0.1850737090337013\n",
      "Epoch 14/100: Training error: 0.21605557574490936\n",
      "Epoch 15/100: Training error: 0.311695220919531\n",
      "Epoch 16/100: Training error: 0.6620330773575408\n",
      "Epoch 17/100: Training error: 0.2500171056566108\n",
      "Epoch 18/100: Training error: 0.2129604716597953\n",
      "Epoch 19/100: Training error: 0.197937350012349\n",
      "Epoch 20/100: Training error: 0.18642796203146206\n",
      "Epoch 21/100: Training error: 0.18477172137783554\n",
      "Epoch 22/100: Training error: 0.18165465309000742\n",
      "Epoch 23/100: Training error: 0.1827714292683977\n",
      "Epoch 24/100: Training error: 0.18450243516323156\n",
      "Epoch 25/100: Training error: 0.18970547703388368\n",
      "Epoch 26/100: Training error: 0.2028323023528966\n",
      "Epoch 27/100: Training error: 0.21606191483807935\n",
      "Epoch 28/100: Training error: 0.2621899342818008\n",
      "Epoch 29/100: Training error: 0.25757542931514227\n",
      "Epoch 30/100: Training error: 0.3233001046976983\n",
      "Epoch 31/100: Training error: 0.24267481260284648\n",
      "Epoch 32/100: Training error: 0.24033439921587477\n",
      "Epoch 33/100: Training error: 0.20806912121925125\n",
      "Epoch 34/100: Training error: 0.19814650544223314\n",
      "Epoch 35/100: Training error: 0.19116815242365112\n",
      "Epoch 36/100: Training error: 0.1877419964645839\n",
      "Epoch 37/100: Training error: 0.18653704730100767\n",
      "Epoch 38/100: Training error: 0.18750448776847742\n",
      "Epoch 39/100: Training error: 0.1883638258845728\n",
      "Epoch 40/100: Training error: 0.19383558367693463\n",
      "Epoch 41/100: Training error: 0.195734596087809\n",
      "Epoch 42/100: Training error: 0.20828890626688287\n",
      "Epoch 43/100: Training error: 0.20864955599985996\n",
      "Epoch 44/100: Training error: 0.22940365627409898\n",
      "Epoch 45/100: Training error: 0.22073632831851014\n",
      "Epoch 46/100: Training error: 0.24243557496238913\n",
      "Epoch 47/100: Training error: 0.22113747413412174\n",
      "Epoch 48/100: Training error: 0.23164362622290144\n",
      "Epoch 49/100: Training error: 0.21109363492078853\n",
      "Epoch 50/100: Training error: 0.21301552121861295\n",
      "Epoch 51/100: Training error: 0.2004969248241801\n",
      "Epoch 52/100: Training error: 0.20076494791964952\n",
      "Epoch 53/100: Training error: 0.19429796381232076\n",
      "Epoch 54/100: Training error: 0.19600355577776332\n",
      "Epoch 55/100: Training error: 0.1925744248381632\n",
      "Epoch 56/100: Training error: 0.19652331050678293\n",
      "Epoch 57/100: Training error: 0.19419741684150768\n",
      "Epoch 58/100: Training error: 0.20080200878218574\n",
      "Epoch 59/100: Training error: 0.198059602623837\n",
      "Epoch 60/100: Training error: 0.20727639977000245\n",
      "Epoch 61/100: Training error: 0.20249400312315413\n",
      "Epoch 62/100: Training error: 0.21305788802936104\n",
      "Epoch 63/100: Training error: 0.20527512395857475\n",
      "Epoch 64/100: Training error: 0.21500058929061283\n",
      "Epoch 65/100: Training error: 0.20499346092454934\n",
      "Epoch 66/100: Training error: 0.2122707840794169\n",
      "Epoch 67/100: Training error: 0.20215010351198592\n",
      "Epoch 68/100: Training error: 0.20714065657965933\n",
      "Epoch 69/100: Training error: 0.19864486968882972\n",
      "Epoch 70/100: Training error: 0.20251403275780475\n",
      "Epoch 71/100: Training error: 0.1960011083527655\n",
      "Epoch 72/100: Training error: 0.19992789234530417\n",
      "Epoch 73/100: Training error: 0.194787308041219\n",
      "Epoch 74/100: Training error: 0.19933979094815518\n",
      "Epoch 75/100: Training error: 0.1948553055459232\n",
      "Epoch 76/100: Training error: 0.20024193038560256\n",
      "Epoch 77/100: Training error: 0.19582662466830222\n",
      "Epoch 78/100: Training error: 0.20202658011850366\n",
      "Epoch 79/100: Training error: 0.19720200806528795\n",
      "Epoch 80/100: Training error: 0.20403816179514456\n",
      "Epoch 81/100: Training error: 0.19834400194579702\n",
      "Epoch 82/100: Training error: 0.20516575989398864\n",
      "Epoch 83/100: Training error: 0.1986636543807408\n",
      "Epoch 84/100: Training error: 0.2049448947350262\n",
      "Epoch 85/100: Training error: 0.19807586089608528\n",
      "Epoch 86/100: Training error: 0.20360085108693052\n",
      "Epoch 87/100: Training error: 0.19692448090417228\n",
      "Epoch 88/100: Training error: 0.20177390406473394\n",
      "Epoch 89/100: Training error: 0.1956634518437558\n",
      "Epoch 90/100: Training error: 0.20021574798557357\n",
      "Epoch 91/100: Training error: 0.19475925495949384\n",
      "Epoch 92/100: Training error: 0.1993953514253003\n",
      "Epoch 93/100: Training error: 0.19436557822931186\n",
      "Epoch 94/100: Training error: 0.1992194034177835\n",
      "Epoch 95/100: Training error: 0.19437411858739886\n",
      "Epoch 96/100: Training error: 0.19951627184636112\n",
      "Epoch 97/100: Training error: 0.19467021829185807\n",
      "Epoch 98/100: Training error: 0.20004319936166765\n",
      "Epoch 99/100: Training error: 0.1951347289706318\n"
     ]
    }
   ],
   "source": [
    "target_inputs =  np.matrix(X.numpy()).copy()\n",
    "target_outputs = np.matrix(y.numpy()).copy()\n",
    "error_history, _ = neuralNetwork.train(target_inputs, target_outputs, learning_rate=learning_rate,\n",
    "                                    regularization_term=regularization_term, momentum_term = momentum_term, epochs=epoch)"
   ],
   "metadata": {
    "collapsed": false,
    "ExecuteTime": {
     "end_time": "2023-05-18T08:49:25.200426300Z",
     "start_time": "2023-05-18T08:49:03.707686300Z"
    }
   }
  },
  {
   "cell_type": "raw",
   "source": [
    "Confronto modelli:\n",
    "(Le piccole differenze sono dovute alla diversa rappresentazione dei dati)"
   ],
   "metadata": {
    "collapsed": false
   },
   "outputs": []
  },
  {
   "cell_type": "code",
   "execution_count": 119,
   "outputs": [
    {
     "data": {
      "text/plain": "<matplotlib.legend.Legend at 0x1aaf6e1ac70>"
     },
     "execution_count": 119,
     "metadata": {},
     "output_type": "execute_result"
    },
    {
     "data": {
      "text/plain": "<Figure size 640x480 with 1 Axes>",
      "image/png": "[encoded data removed]"
     },
     "metadata": {},
     "output_type": "display_data"
    }
   ],
   "source": [
    "plt.plot(error_history[0:epoch-1], label='modello nostro')\n",
    "plt.plot(history.history[\"MSE\"][1:], label='modello keras')\n",
    "plt.legend()"
   ],
   "metadata": {
    "collapsed": false,
    "ExecuteTime": {
     "end_time": "2023-05-18T08:49:25.337413400Z",
     "start_time": "2023-05-18T08:49:25.207363500Z"
    }
   }
  },
  {
   "cell_type": "code",
   "execution_count": 120,
   "outputs": [
    {
     "name": "stdout",
     "output_type": "stream",
     "text": [
      "Test fallito\n"
     ]
    }
   ],
   "source": [
    "diff = np.array(error_history[0:epoch-1]) - np.array(history.history[\"MSE\"][1:])\n",
    "if np.all(np.abs(diff) < 0.001):\n",
    "    print(\"Test passato\")\n",
    "else:\n",
    "    print(\"Test fallito\")"
   ],
   "metadata": {
    "collapsed": false,
    "ExecuteTime": {
     "end_time": "2023-05-18T08:49:25.351396Z",
     "start_time": "2023-05-18T08:49:25.337413400Z"
    }
   }
  }
 ],
 "metadata": {
  "kernelspec": {
   "display_name": "Python 3",
   "language": "python",
   "name": "python3"
  },
  "language_info": {
   "codemirror_mode": {
    "name": "ipython",
    "version": 2
   },
   "file_extension": ".py",
   "mimetype": "text/x-python",
   "name": "python",
   "nbconvert_exporter": "python",
   "pygments_lexer": "ipython2",
   "version": "2.7.6"
  }
 },
 "nbformat": 4,
 "nbformat_minor": 0
}
