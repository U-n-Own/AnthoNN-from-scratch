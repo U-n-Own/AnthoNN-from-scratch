{
 "cells": [
  {
   "cell_type": "markdown",
   "source": [
    "# Verifica se l'output della rete è corretto\n",
    "- Viene confrontato l'output del nostro modello con quello di Keras\n",
    "- Non viene testato il l'algoritmo di learning"
   ],
   "metadata": {
    "collapsed": false
   }
  },
  {
   "cell_type": "code",
   "execution_count": 11,
   "outputs": [],
   "source": [
    "import sys\n",
    "import tensorflow as tf\n",
    "from tensorflow.keras.layers import Dense\n",
    "\n",
    "import numpy as np\n",
    "\n",
    "sys.path.append('../') #server per fare l'import di file in un'altra directory sullo stesso \"livello\"\n",
    "from src.NeuralNetwork import NeuralNetwork, Layer\n",
    "from src.function import IdentityFunction, SigmoidFunction"
   ],
   "metadata": {
    "collapsed": false
   }
  },
  {
   "cell_type": "raw",
   "source": [
    "Definizione modello keras"
   ],
   "metadata": {
    "collapsed": false
   }
  },
  {
   "cell_type": "code",
   "execution_count": 12,
   "outputs": [],
   "source": [
    "model = tf.keras.models.Sequential()\n",
    "model.add(Dense(2, input_dim=2, activation='sigmoid'))\n",
    "model.add(Dense(3, activation='sigmoid'))\n",
    "model.add(Dense(2, activation='sigmoid'))"
   ],
   "metadata": {
    "collapsed": false
   }
  },
  {
   "cell_type": "raw",
   "source": [
    "Definizione nostro modello"
   ],
   "metadata": {
    "collapsed": false
   }
  },
  {
   "cell_type": "code",
   "execution_count": 20,
   "outputs": [],
   "source": [
    "activation_function = SigmoidFunction()\n",
    "layer1 = Layer(num_neurons=2, num_inputs=2, activation_function=activation_function)\n",
    "layer2 = Layer(num_neurons=3, num_inputs=2, activation_function=activation_function)\n",
    "layer3 = Layer(num_neurons=2, num_inputs=3, activation_function=activation_function)\n",
    "\n",
    "neuralNetwork = NeuralNetwork([layer1, layer2, layer3])\n",
    "neuralNetwork.layers[0].weights = model.layers[0].get_weights()[0].T\n",
    "neuralNetwork.layers[1].weights = model.layers[1].get_weights()[0].T\n",
    "neuralNetwork.layers[2].weights = model.layers[2].get_weights()[0].T\n",
    "\n",
    "neuralNetwork.layers[0].biases = model.layers[0].get_weights()[1].T\n",
    "neuralNetwork.layers[1].biases = model.layers[1].get_weights()[1].T\n",
    "neuralNetwork.layers[2].biases = model.layers[2].get_weights()[1].T"
   ],
   "metadata": {
    "collapsed": false
   }
  },
  {
   "cell_type": "raw",
   "source": [
    "Definizione input"
   ],
   "metadata": {
    "collapsed": false
   }
  },
  {
   "cell_type": "code",
   "execution_count": 14,
   "outputs": [],
   "source": [
    "target_inputs = np.matrix(np.random.rand(10000, 2))"
   ],
   "metadata": {
    "collapsed": false
   }
  },
  {
   "cell_type": "code",
   "execution_count": 15,
   "outputs": [
    {
     "name": "stdout",
     "output_type": "stream",
     "text": [
      "313/313 [==============================] - 1s 3ms/step\n"
     ]
    }
   ],
   "source": [
    "# N.B. Ci sono differenze di approssimazione tra i due modelli\n",
    "assert np.all(np.abs(model.predict(target_inputs) - neuralNetwork.predict(target_inputs)) < 0.0001)"
   ],
   "metadata": {
    "collapsed": false
   }
  }
 ],
 "metadata": {
  "kernelspec": {
   "display_name": "Python 3",
   "language": "python",
   "name": "python3"
  },
  "language_info": {
   "codemirror_mode": {
    "name": "ipython",
    "version": 2
   },
   "file_extension": ".py",
   "mimetype": "text/x-python",
   "name": "python",
   "nbconvert_exporter": "python",
   "pygments_lexer": "ipython2",
   "version": "2.7.6"
  }
 },
 "nbformat": 4,
 "nbformat_minor": 0
}
