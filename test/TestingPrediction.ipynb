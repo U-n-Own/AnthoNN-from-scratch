{
 "cells": [
  {
   "cell_type": "markdown",
   "metadata": {
    "collapsed": false
   },
   "source": [
    "# Verifica se l'output della rete è corretto\n",
    "- Viene confrontato l'output del nostro modello con quello di Keras\n",
    "- Non viene testato il l'algoritmo di learning"
   ]
  },
  {
   "cell_type": "code",
   "execution_count": 18,
   "metadata": {
    "collapsed": false
   },
   "outputs": [],
   "source": [
    "import tensorflow as tf\n",
    "from tensorflow.keras.layers import Dense\n",
    "\n",
    "import numpy as np\n",
    "\n",
    "sys.path.append('../') #server per fare l'import di file in un'altra directory sullo stesso \"livello\"\n",
    "\n",
    "from src.NeuralNetwork import NeuralNetwork, Layer\n",
    "from src.function import IdentityFunction, SigmoideFunction\n"
   ]
  },
  {
   "cell_type": "raw",
   "metadata": {
    "collapsed": false
   },
   "source": [
    "Definizione modello keras"
   ]
  },
  {
   "cell_type": "code",
   "execution_count": 19,
   "metadata": {
    "collapsed": false
   },
   "outputs": [],
   "source": [
    "model = tf.keras.models.Sequential()\n",
    "model.add(Dense(2, input_dim=2, activation='sigmoid'))\n",
    "model.add(Dense(3, activation='sigmoid'))\n",
    "model.add(Dense(2, activation='sigmoid'))"
   ]
  },
  {
   "cell_type": "raw",
   "metadata": {
    "collapsed": false
   },
   "source": [
    "Definizione nostro modello"
   ]
  },
  {
   "cell_type": "code",
   "execution_count": 20,
   "metadata": {
    "collapsed": false
   },
   "outputs": [],
   "source": [
    "activation_function = SigmoideFunction()\n",
    "\n",
    "layer1 = Layer(num_neurons=2, num_inputs=2, activation_function=activation_function)\n",
    "layer2 = Layer(num_neurons=3, num_inputs=2, activation_function=activation_function)\n",
    "layer3 = Layer(num_neurons=2, num_inputs=3, activation_function=activation_function)\n",
    "\n",
    "neuralNetwork = NeuralNetwork([layer1, layer2, layer3])\n",
    "neuralNetwork.layers[0].weights = model.layers[0].get_weights()[0].T\n",
    "neuralNetwork.layers[1].weights = model.layers[1].get_weights()[0].T\n",
    "neuralNetwork.layers[2].weights = model.layers[2].get_weights()[0].T"
   ]
  },
  {
   "cell_type": "raw",
   "metadata": {
    "collapsed": false
   },
   "source": [
    "Definizione input"
   ]
  },
  {
   "cell_type": "code",
   "execution_count": 21,
   "metadata": {
    "collapsed": false
   },
   "outputs": [],
   "source": [
    "target_inputs = np.matrix(np.random.rand(10000, 2))"
   ]
  },
  {
   "cell_type": "code",
   "execution_count": 22,
   "metadata": {
    "collapsed": false
   },
   "outputs": [
    {
     "name": "stdout",
     "output_type": "stream",
     "text": [
      "313/313 [==============================] - 1s 2ms/step\n"
     ]
    }
   ],
   "source": [
    "# N.B. Ci sono differenze di approssimazione tra i due modelli\n",
    "assert np.all(np.abs(model.predict(target_inputs) - neuralNetwork.predict(target_inputs)) < 0.0001)"
   ]
  }
 ],
 "metadata": {
  "kernelspec": {
   "display_name": "Python 3",
   "language": "python",
   "name": "python3"
  },
  "language_info": {
   "codemirror_mode": {
    "name": "ipython",
    "version": 3
   },
   "file_extension": ".py",
   "mimetype": "text/x-python",
   "name": "python",
   "nbconvert_exporter": "python",
   "pygments_lexer": "ipython3",
   "version": "3.10.8"
  },
  "vscode": {
   "interpreter": {
    "hash": "e7370f93d1d0cde622a1f8e1c04877d8463912d04d973331ad4851f04de6915a"
   }
  }
 },
 "nbformat": 4,
 "nbformat_minor": 0
}
