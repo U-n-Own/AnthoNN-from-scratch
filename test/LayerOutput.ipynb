{
 "cells": [
  {
   "cell_type": "raw",
   "source": [
    "Verifica la correttezza dell'output della classe Layer confrontando i risultati con quelli di pytorch."
   ],
   "metadata": {
    "collapsed": false
   }
  },
  {
   "cell_type": "code",
   "execution_count": 1,
   "outputs": [],
   "source": [
    "import sys\n",
    "import numpy as np\n",
    "\n",
    "sys.path.append('../') #serve per fare l'import di file in un'altra directory sullo stesso \"livello\"\n",
    "from src.neuralNetwork.Layer import Layer\n",
    "from src.neuralNetwork.function import ReLuFunction, SigmoidFunction, LeakReLuFunction, TanhFunction, SoftplusFunction, \\\n",
    "    IdentityFunction, SiluFunction, SELUFunction, ELUFunction\n",
    "\n",
    "import torch.nn as nn\n",
    "import torch"
   ],
   "metadata": {
    "collapsed": false,
    "ExecuteTime": {
     "end_time": "2023-05-17T20:34:23.260859300Z",
     "start_time": "2023-05-17T20:34:21.390393400Z"
    }
   }
  },
  {
   "cell_type": "code",
   "execution_count": 2,
   "outputs": [],
   "source": [
    "def test_layer(num_neurons, num_inputs, activationTorch, activationPersonale):\n",
    "    target_inputs = np.matrix(np.random.rand(10000, num_inputs))\n",
    "\n",
    "    #Definzione layer pytorch\n",
    "    layerTorch = nn.Linear(num_inputs, num_neurons, bias=True, dtype=torch.float64)\n",
    "    outputTorch = layerTorch.forward(torch.tensor(target_inputs, dtype=torch.float64))\n",
    "    outputTorch = activationTorch(outputTorch)\n",
    "\n",
    "    #definizione layer personale\n",
    "    layer = Layer(num_neurons, num_inputs, activation_function=activationPersonale)\n",
    "    layer.weights = layerTorch.weight.detach().numpy()\n",
    "    layer.biases = layerTorch.bias.detach().numpy()\n",
    "    outputLayer = layer.forward(target_inputs)\n",
    "\n",
    "    # Tra i due modelli ci possono essere differenze di approssimazione dei valori decimali\n",
    "    diff = outputLayer-outputTorch.detach().numpy()\n",
    "    if np.all(np.abs(diff) < 0.00001):\n",
    "        print(\"Test passato\")\n",
    "    else:\n",
    "        print(\"Test fallito\")"
   ],
   "metadata": {
    "collapsed": false,
    "ExecuteTime": {
     "end_time": "2023-05-17T20:34:23.849653100Z",
     "start_time": "2023-05-17T20:34:23.818388200Z"
    }
   }
  },
  {
   "cell_type": "code",
   "execution_count": 3,
   "outputs": [
    {
     "name": "stdout",
     "output_type": "stream",
     "text": [
      "Test passato\n"
     ]
    }
   ],
   "source": [
    "test_layer(1000, 2000, nn.ReLU(), ReLuFunction())"
   ],
   "metadata": {
    "collapsed": false,
    "ExecuteTime": {
     "end_time": "2023-05-17T20:34:45.182932500Z",
     "start_time": "2023-05-17T20:34:24.035682Z"
    }
   }
  },
  {
   "cell_type": "code",
   "execution_count": 4,
   "outputs": [
    {
     "name": "stdout",
     "output_type": "stream",
     "text": [
      "Test passato\n"
     ]
    }
   ],
   "source": [
    "test_layer(1000, 2000, nn.Sigmoid(), SigmoidFunction())"
   ],
   "metadata": {
    "collapsed": false,
    "ExecuteTime": {
     "end_time": "2023-05-17T20:34:59.971255Z",
     "start_time": "2023-05-17T20:34:45.182932500Z"
    }
   }
  },
  {
   "cell_type": "code",
   "execution_count": 5,
   "outputs": [
    {
     "name": "stdout",
     "output_type": "stream",
     "text": [
      "Test passato\n"
     ]
    }
   ],
   "source": [
    "test_layer(1000, 2000, nn.LeakyReLU(), LeakReLuFunction())"
   ],
   "metadata": {
    "collapsed": false,
    "ExecuteTime": {
     "end_time": "2023-05-17T20:35:14.415560100Z",
     "start_time": "2023-05-17T20:34:59.971255Z"
    }
   }
  },
  {
   "cell_type": "code",
   "execution_count": 6,
   "outputs": [
    {
     "name": "stdout",
     "output_type": "stream",
     "text": [
      "Test passato\n"
     ]
    }
   ],
   "source": [
    "test_layer(1000, 2000, nn.Tanh(), TanhFunction())"
   ],
   "metadata": {
    "collapsed": false,
    "ExecuteTime": {
     "end_time": "2023-05-17T20:35:26.333740700Z",
     "start_time": "2023-05-17T20:35:14.422910200Z"
    }
   }
  },
  {
   "cell_type": "code",
   "execution_count": null,
   "outputs": [],
   "source": [
    "test_layer(1000, 2000, nn.Softplus(), SoftplusFunction())"
   ],
   "metadata": {
    "collapsed": false,
    "is_executing": true,
    "ExecuteTime": {
     "start_time": "2023-05-17T20:35:26.333740700Z"
    }
   }
  },
  {
   "cell_type": "code",
   "execution_count": null,
   "outputs": [],
   "source": [
    "test_layer(1000, 2000, nn.SiLU(), SiluFunction())"
   ],
   "metadata": {
    "collapsed": false,
    "is_executing": true
   }
  },
  {
   "cell_type": "code",
   "execution_count": null,
   "outputs": [],
   "source": [
    "test_layer(1000, 2000, nn.SELU(), SELUFunction())"
   ],
   "metadata": {
    "collapsed": false,
    "is_executing": true
   }
  },
  {
   "cell_type": "code",
   "execution_count": null,
   "outputs": [],
   "source": [
    "test_layer(1000, 2000, nn.ELU(), ELUFunction())"
   ],
   "metadata": {
    "collapsed": false,
    "is_executing": true
   }
  },
  {
   "cell_type": "code",
   "execution_count": null,
   "outputs": [],
   "source": [
    "class Identity(nn.Module):\n",
    "    def __init__(self):\n",
    "        super(Identity, self).__init__()\n",
    "\n",
    "    def forward(self, x):\n",
    "        return x\n",
    "test_layer(1000, 2000, nn.Identity(), IdentityFunction())"
   ],
   "metadata": {
    "collapsed": false,
    "is_executing": true
   }
  }
 ],
 "metadata": {
  "kernelspec": {
   "display_name": "Python 3",
   "language": "python",
   "name": "python3"
  },
  "language_info": {
   "codemirror_mode": {
    "name": "ipython",
    "version": 2
   },
   "file_extension": ".py",
   "mimetype": "text/x-python",
   "name": "python",
   "nbconvert_exporter": "python",
   "pygments_lexer": "ipython2",
   "version": "2.7.6"
  }
 },
 "nbformat": 4,
 "nbformat_minor": 0
}
