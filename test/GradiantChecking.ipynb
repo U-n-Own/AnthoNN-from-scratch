{
 "cells": [
  {
   "cell_type": "code",
   "execution_count": 537,
   "outputs": [],
   "source": [
    "import copy\n",
    "import sys\n",
    "import numpy as np\n",
    "\n",
    "sys.path.append('../') #server per fare l'import di file in un'altra directory sullo stesso \"livello\"\n",
    "from src.NeuralNetwork import Layer, NeuralNetwork\n",
    "from src.function import IdentityFunction"
   ],
   "metadata": {
    "collapsed": false
   }
  },
  {
   "cell_type": "raw",
   "source": [
    "Definizione funzione loss usata nella nostra neural network"
   ],
   "metadata": {
    "collapsed": false
   }
  },
  {
   "cell_type": "code",
   "execution_count": 538,
   "outputs": [],
   "source": [
    "def calculate_total_loss(target_output: np.matrix, output_nn: np.matrix) -> np.float64:\n",
    "    if target_output is None:\n",
    "        raise ValueError(\"target_output must be != None\")\n",
    "    if output_nn is None:\n",
    "        raise ValueError(\"output_nn must be != None\")\n",
    "    if target_output.shape != output_nn.shape:\n",
    "        raise ValueError(f\"target_output ({target_output.shape}) and output_nn ({output_nn.shape}) must have the same shape\")\n",
    "\n",
    "    error_vector = np.sum(np.square(target_output - output_nn), axis=1) * 0.5\n",
    "    error_total = np.sum(error_vector)\n",
    "    return error_total"
   ],
   "metadata": {
    "collapsed": false
   }
  },
  {
   "cell_type": "raw",
   "source": [
    "Gradiant checking"
   ],
   "metadata": {
    "collapsed": false
   }
  },
  {
   "cell_type": "code",
   "execution_count": 539,
   "outputs": [],
   "source": [
    "def gradient_check(neuralNetwork1, neuralNetwork2, target_inputs, target_outputs, epsilon=1e-7):\n",
    "\n",
    "    is_correct = True\n",
    "\n",
    "    # Applicazione backpropagation per il nostro algoritmo\n",
    "    for target_input, target_output in zip(target_inputs, target_outputs):\n",
    "        neuralNetwork2._backpropagation(target_input=target_input, target_output=target_output)\n",
    "\n",
    "    # Gradiant checking per ogni singolo peso\n",
    "    for layer in range(len(neuralNetwork1.layers)):\n",
    "        for i, row in enumerate(neuralNetwork1.layers[layer].weights):\n",
    "            for j, element in enumerate(row):\n",
    "\n",
    "                neuralNetwork1.layers[layer].weights[i, j] += epsilon\n",
    "                output_nn = neuralNetwork1.predict(target_inputs)\n",
    "                loss_plus = calculate_total_loss(target_output=target_outputs, output_nn=output_nn)\n",
    "\n",
    "                neuralNetwork1.layers[layer].weights[i, j] -= 2*epsilon\n",
    "                output_nn = neuralNetwork1.predict(target_inputs)\n",
    "                loss_minus = calculate_total_loss(target_output=target_outputs, output_nn=output_nn)\n",
    "\n",
    "                # Approximate the gradient using finite differences\n",
    "                gradient_approx = (loss_plus - loss_minus) / (2 * epsilon)\n",
    "\n",
    "              # Check that the gradient is correct\n",
    "                if abs(gradient_approx + neuralNetwork2.layers[layer].current_delta_weight[i,j]) > 1e-4:\n",
    "                    is_correct = False\n",
    "\n",
    "    if is_correct:\n",
    "        print(\"Coretto\")\n",
    "    else:\n",
    "        print(\"Incorretto\")"
   ],
   "metadata": {
    "collapsed": false
   }
  },
  {
   "cell_type": "code",
   "execution_count": 540,
   "outputs": [],
   "source": [
    "target_inputs = np.matrix(np.random.rand(100, 2)) # deve essere una matrice\n",
    "target_outputs = target_inputs*2 # deve essere una matrice"
   ],
   "metadata": {
    "collapsed": false
   }
  },
  {
   "cell_type": "code",
   "execution_count": 541,
   "outputs": [],
   "source": [
    "activation_function = IdentityFunction()\n",
    "layer1 = Layer(num_neurons=3, num_inputs=2, activation_function=activation_function)\n",
    "layer2 = Layer(num_neurons=4, num_inputs=3, activation_function=activation_function)\n",
    "layer3 = Layer(num_neurons=2, num_inputs=4, activation_function=activation_function)\n",
    "neuralNetwork1 = NeuralNetwork([layer1, layer2, layer3])\n",
    "\n",
    "neuralNetwork2 = NeuralNetwork([copy.deepcopy(layer1), copy.deepcopy(layer2), copy.deepcopy(layer3)])"
   ],
   "metadata": {
    "collapsed": false
   }
  },
  {
   "cell_type": "code",
   "execution_count": 542,
   "outputs": [
    {
     "name": "stdout",
     "output_type": "stream",
     "text": [
      "Coretto\n"
     ]
    }
   ],
   "source": [
    "gradient_check(neuralNetwork1=neuralNetwork1, neuralNetwork2=neuralNetwork2, target_inputs=target_inputs, target_outputs=target_outputs)"
   ],
   "metadata": {
    "collapsed": false
   }
  }
 ],
 "metadata": {
  "kernelspec": {
   "display_name": "Python 3",
   "language": "python",
   "name": "python3"
  },
  "language_info": {
   "codemirror_mode": {
    "name": "ipython",
    "version": 2
   },
   "file_extension": ".py",
   "mimetype": "text/x-python",
   "name": "python",
   "nbconvert_exporter": "python",
   "pygments_lexer": "ipython2",
   "version": "2.7.6"
  }
 },
 "nbformat": 4,
 "nbformat_minor": 0
}
