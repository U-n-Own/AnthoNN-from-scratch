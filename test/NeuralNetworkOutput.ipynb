{
 "cells": [
  {
   "cell_type": "markdown",
   "source": [
    "Verifica la correttezza dell'output della classe NN confrontando i risultati con quelli di pytorch.\n",
    "- (N.B. Non viene testato l'algoritmo di training)"
   ],
   "metadata": {
    "collapsed": false
   }
  },
  {
   "cell_type": "code",
   "execution_count": null,
   "outputs": [],
   "source": [
    "import sys\n",
    "import torch\n",
    "import torch.nn as nn\n",
    "import numpy as np\n",
    "\n",
    "sys.path.append('../') #serve per fare l'import di file in un'altra directory sullo stesso \"livello\"\n",
    "from src.neuralNetwork.Layer import Layer\n",
    "from src.neuralNetwork.NeuralNetwork import NeuralNetwork\n",
    "from src.neuralNetwork.function import ReLuFunction, SigmoidFunction, LeakReLuFunction, TanhFunction, SoftplusFunction, IdentityFunction"
   ],
   "metadata": {
    "collapsed": false,
    "pycharm": {
     "is_executing": true
    }
   }
  },
  {
   "cell_type": "code",
   "execution_count": null,
   "outputs": [],
   "source": [
    "target_inputs = np.matrix(np.random.rand(10000, 2))"
   ],
   "metadata": {
    "collapsed": false
   }
  },
  {
   "cell_type": "raw",
   "source": [
    "Definizione modello pytorch"
   ],
   "metadata": {
    "collapsed": false
   }
  },
  {
   "cell_type": "code",
   "execution_count": null,
   "outputs": [],
   "source": [
    "# Define the model\n",
    "activation_function = nn.Tanh()\n",
    "model = nn.Sequential(\n",
    "    nn.Linear(2, 2, bias=True, dtype=torch.float64), activation_function,\n",
    "    nn.Linear(2, 3, bias=True, dtype=torch.float64), activation_function,\n",
    "    nn.Linear(3, 10, bias=True, dtype=torch.float64), activation_function\n",
    "\n",
    ")\n",
    "\n",
    "outputTorch = model.forward(torch.tensor(target_inputs, dtype=torch.float64))"
   ],
   "metadata": {
    "collapsed": false,
    "pycharm": {
     "is_executing": true
    }
   }
  },
  {
   "cell_type": "raw",
   "source": [
    "Definizione nostro modello"
   ],
   "metadata": {
    "collapsed": false
   }
  },
  {
   "cell_type": "code",
   "execution_count": null,
   "outputs": [],
   "source": [
    "activation_function = TanhFunction()\n",
    "layer1 = Layer(num_neurons=2, num_inputs=2, activation_function=activation_function)\n",
    "layer2 = Layer(num_neurons=3, num_inputs=2, activation_function=activation_function)\n",
    "layer3 = Layer(num_neurons=10, num_inputs=3, activation_function=activation_function)\n",
    "\n",
    "layer1.weights = model.state_dict()['0.weight'].detach().numpy()\n",
    "layer2.weights = model.state_dict()['2.weight'].detach().numpy()\n",
    "layer3.weights = model.state_dict()['4.weight'].detach().numpy()\n",
    "\n",
    "layer1.biases = model.state_dict()['0.bias'].detach().numpy()\n",
    "layer2.biases = model.state_dict()['2.bias'].detach().numpy()\n",
    "layer3.biases = model.state_dict()['4.bias'].detach().numpy()\n",
    "\n",
    "neuralNetwork = NeuralNetwork([layer1, layer2, layer3])\n",
    "\n",
    "outputNN = neuralNetwork.predict(target_inputs)"
   ],
   "metadata": {
    "collapsed": false,
    "pycharm": {
     "is_executing": true
    }
   }
  },
  {
   "cell_type": "raw",
   "source": [
    "Testing"
   ],
   "metadata": {
    "collapsed": false
   }
  },
  {
   "cell_type": "code",
   "execution_count": null,
   "outputs": [],
   "source": [
    "diff = outputNN-outputTorch.detach().numpy()\n",
    "# Tra i due modelli ci possono essere differenze di approssimazione dei valori decimali\n",
    "if np.all(np.abs(diff) < 0.00000000001):\n",
    "    print(\"Test passato\")\n",
    "else:\n",
    "    print(\"Test fallito\")"
   ],
   "metadata": {
    "collapsed": false
   }
  }
 ],
 "metadata": {
  "kernelspec": {
   "display_name": "Python 3",
   "language": "python",
   "name": "python3"
  },
  "language_info": {
   "codemirror_mode": {
    "name": "ipython",
    "version": 2
   },
   "file_extension": ".py",
   "mimetype": "text/x-python",
   "name": "python",
   "nbconvert_exporter": "python",
   "pygments_lexer": "ipython2",
   "version": "2.7.6"
  }
 },
 "nbformat": 4,
 "nbformat_minor": 0
}
